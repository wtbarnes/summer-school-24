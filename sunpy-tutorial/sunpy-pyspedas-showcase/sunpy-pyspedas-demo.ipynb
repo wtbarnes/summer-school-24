{
 "cells": [
  {
   "cell_type": "markdown",
   "id": "ae706e18-ea9e-4378-ba0f-09a57d999126",
   "metadata": {},
   "source": [
    "# Analyzing Remote Sensing and *in situ* Solar Observations of the 24 March 2023 Event with `sunpy` and `pyspedas`"
   ]
  },
  {
   "cell_type": "code",
   "execution_count": 2,
   "id": "1f432881-8f42-4e52-9baa-cac48f12d7c4",
   "metadata": {},
   "outputs": [],
   "source": [
    "# These are the more \"specialized\" packages we will need\n",
    "# Have confirmed that these can all be installed and imported in the same environment\n",
    "import aiapy\n",
    "import pyspedas\n",
    "import solarmach\n",
    "import stixpy\n",
    "import sunpy\n",
    "import sunpy_soar"
   ]
  },
  {
   "cell_type": "markdown",
   "id": "f8c13767-cc13-4aeb-8d55-55f8b74b8c0b",
   "metadata": {},
   "source": [
    "## What are we looking at?\n",
    "\n",
    "In this section, describe the event, when we're looking for it (several days ahead of when it hit Earth), and where the observatories are using `solarmach`"
   ]
  },
  {
   "cell_type": "markdown",
   "id": "ea82c707-2ca6-465c-b58a-6ac84f9d5045",
   "metadata": {},
   "source": [
    "## What data do we have?\n",
    "\n",
    "Use `Fido` to download:\n",
    "- GOES XRS lightcurves (this tells us the time we're interested in)\n",
    "- STIX quicklook lightcurves (this confirms the presence of HXR emission and tells us the time of the flare at SolO)\n",
    "- AIA 171 and 304\n",
    "- Solar Orbiter 304\n",
    "- STEREO-A SECCHI 304\n",
    "- PSP MAG Data\n",
    "- PSP WISPR Data\n",
    "- *Solar Orbiter* EPD data"
   ]
  },
  {
   "cell_type": "markdown",
   "id": "ca7b4e89-6287-4f52-a46e-e1e60389b97f",
   "metadata": {},
   "source": [
    "## Examining the Data\n",
    "\n",
    "Load the image data with `sunpy`. Load the *in situ* data with `pyspedas`. Transform the vector data with `pyspedas` (?)\n",
    "\n",
    "Look at the ribbons in the EUV image data\n",
    "Look at the variations in the *in situ* data\n",
    "Look at the corresponding heliospheric white light data with WISPR"
   ]
  },
  {
   "cell_type": "markdown",
   "id": "a275e7e0-b5b0-4403-bc46-2d5519f47053",
   "metadata": {},
   "source": [
    "## How do we combine the data?\n",
    "\n",
    "We ultimately want to answer the question of what the origin of this storm is on the Sun\n",
    "\n",
    "Reproject the SECCHI, AIA, and EUI data into a single synoptic EUV map. Backmap from PSP to the solar surface using SolarMach\n",
    "\n",
    "Reproject one of the EUV images with the WISPR data to gain a view of the heliosphere from the corona out into the solar wind"
   ]
  },
  {
   "cell_type": "code",
   "execution_count": null,
   "id": "2844f36c-7a79-403e-93e1-18cd986a765e",
   "metadata": {},
   "outputs": [],
   "source": []
  }
 ],
 "metadata": {
  "kernelspec": {
   "display_name": "Python [conda env:pyhc-ss24-sunpy-pyspedas]",
   "language": "python",
   "name": "conda-env-pyhc-ss24-sunpy-pyspedas-py"
  },
  "language_info": {
   "codemirror_mode": {
    "name": "ipython",
    "version": 3
   },
   "file_extension": ".py",
   "mimetype": "text/x-python",
   "name": "python",
   "nbconvert_exporter": "python",
   "pygments_lexer": "ipython3",
   "version": "3.11.8"
  }
 },
 "nbformat": 4,
 "nbformat_minor": 5
}

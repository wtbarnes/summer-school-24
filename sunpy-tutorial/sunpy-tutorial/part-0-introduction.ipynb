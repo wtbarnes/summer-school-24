{
 "cells": [
  {
   "cell_type": "markdown",
   "id": "b30c635a-8c7d-4fb9-ae7d-2382f9a89e7b",
   "metadata": {
    "tags": []
   },
   "source": [
    "# **An Introduction to the SunPy Ecosystem**\n",
    "\n",
    "![sunpy logo](./images/sunpy_logo.png)\n",
    "\n",
    "## PyHC Summer School / 30 May 2022 / ESAC, Madrid, Spain\n",
    "\n",
    "### *Will Barnes* (AU/NASA GSFC) and *Stuart Mumford* (Aperio Software) *on behalf of the SunPy Community*\n",
    "### *with many thanks to: Albert Shih (NASA GSFC), Laura Hayes (ESA ESTEC), David Stansby (UCL)*"
   ]
  },
  {
   "cell_type": "markdown",
   "id": "d3058b21-e045-4cd4-a130-51b9950840b1",
   "metadata": {},
   "source": [
    "## What is SunPy?"
   ]
  },
  {
   "cell_type": "markdown",
   "id": "72d11c0d-f3ef-4034-b2a1-89f58069bc70",
   "metadata": {},
   "source": [
    "![sunpy core summary](./images/sunpy-summary-slide.png)"
   ]
  },
  {
   "cell_type": "markdown",
   "id": "2b23ccf9-638d-4e8c-9ba0-f2abbbad1c60",
   "metadata": {},
   "source": [
    "![sunpy ecosystem summary](./images/sunpy-ecosystem-slide.png)"
   ]
  },
  {
   "cell_type": "markdown",
   "id": "8bdc7be7-82e7-47c1-8f00-9ffc4827a026",
   "metadata": {
    "tags": []
   },
   "source": [
    "## This Tutorial\n",
    "\n",
    "In this tutorial, we're going to be studying a flare and subsequent CME that was observed simultaneously by SDO/AIA, STEREO/EUVI, and EUI aboard Solar Orbiter.\n",
    "Below is a quick GIF of the CME as seen by the LASCO coronagraph generated using [Helioviewer](https://helioviewer.org/)."
   ]
  },
  {
   "cell_type": "markdown",
   "id": "b726e930-6e4e-459d-8b19-6c5f2e8146cd",
   "metadata": {},
   "source": [
    "![foo](https://i.imgur.com/TYBKKtX.gif)"
   ]
  },
  {
   "cell_type": "markdown",
   "id": "b0ee7198-93d1-4364-8ba6-42564fd71b8f",
   "metadata": {},
   "source": [
    "Additionally, we can use the [Solar-MACH tool](https://solar-mach.github.io/) (which you'll hear much more about later this week) to easily peek at the relative positions of the spacecraft.\n",
    "The relative orientation of our three observatories, SDO, STEREO-A, and Solar Orbiter, gives us a unique opportunity to examine this eruption from multiple viewpoints."
   ]
  },
  {
   "cell_type": "markdown",
   "id": "6d985b83-ec24-4118-8433-273d90661a37",
   "metadata": {},
   "source": [
    "<img src=\"images/Solar-MACH_2022-03-28_11-00-00.png\" width=\"75%\"></img>"
   ]
  },
  {
   "cell_type": "markdown",
   "id": "7d311749-1e56-4f2c-bfd2-c115a132772f",
   "metadata": {},
   "source": [
    "This tutorial will be divided into three different components:\n",
    "\n",
    "1. [Data Search and Download](part-1-search-and-download.ipynb)\n",
    "2. [Data Containers: Map and Timeseries](part-2-data-structures.ipynb)\n",
    "3. [Working with Solar Coordinates](part-3-coordinates.ipynb)\n",
    "\n",
    "We will use the above dataset to illustrate each of these components of the `sunpy` codebase as well as a few components of the affiliated package ecosystem."
   ]
  },
  {
   "cell_type": "markdown",
   "id": "682386ac-bcbd-481a-8c8b-995d7ea524cb",
   "metadata": {
    "tags": []
   },
   "source": [
    "Throughout all of the noteooks in this tutorial, there will be a few questions/exercises to keep things interactive and break up the lecture a bit.\n",
    "These are marked in the following way:\n",
    "\n",
    "<div class=\"alert alert-block alert-warning\">\n",
    "    <h3><u>EXERCISE:</u> <br><br>This orange block denotes an exercise that involves writing a few lines of code or modifying the tutorial materials in some way.</h3>\n",
    "</div>"
   ]
  },
  {
   "cell_type": "markdown",
   "id": "870a1aa4-3801-46b2-aa48-8c0b9aa03b62",
   "metadata": {
    "tags": []
   },
   "source": [
    "## Resources\n",
    "\n",
    "Below are a few helpful links for finding out more about SunPy, including our webpage, documentation, and our Matrix channel:\n",
    "\n",
    "* [sunpy.org](https://sunpy.org/)\n",
    "* [SunPy Documentation](https://docs.sunpy.org/en/stable/)\n",
    "* [Tutorial Notebooks from 2021 AAS/SPD SunPy Workshop](https://github.com/sunpy/aas-2021-workshop)\n",
    "* [List of Affiliated Packages](https://sunpy.org/project/affiliated.html)\n",
    "* [Matrix Chat](https://openastronomy.element.io/#/room/#sunpy:openastronomy.org)\n",
    "* [OpenAstronomy Discourse](https://community.openastronomy.org/c/sunpy/5)"
   ]
  }
 ],
 "metadata": {
  "language_info": {
   "codemirror_mode": {
    "name": "ipython",
    "version": 3
   },
   "file_extension": ".py",
   "mimetype": "text/x-python",
   "name": "python",
   "nbconvert_exporter": "python",
   "pygments_lexer": "ipython3",
   "version": "3.10.4"
  },
  "toc-autonumbering": false,
  "toc-showmarkdowntxt": true,
  "toc-showtags": false
 },
 "nbformat": 4,
 "nbformat_minor": 5
}

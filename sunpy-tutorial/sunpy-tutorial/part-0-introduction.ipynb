{
 "cells": [
  {
   "cell_type": "markdown",
   "id": "0",
   "metadata": {
    "tags": []
   },
   "source": [
    "# **An introduction to sunpy (and astropy)**\n",
    "\n",
    "![sunpy logo](images/sunpy_logo.svg)\n",
    "\n",
    "![astropy logo](images/astropy_logo.svg)\n",
    "\n",
    "## PyHC Summer School 2024\n",
    "\n",
    "### *Will Barnes* (AU/NASA GSFC) and *Nabil Freij* (BAERi/LMSAL) *on behalf of the SunPy Community*\n",
    "\n",
    "### *with many thanks to: Albert Shih, Laura Hayes, David Stansby, Stuart Mumford, Pey Lian Lim, Erik Tollerud, Larry Bradley, Tim Pickering, Tom Aldcroft, David Shupe and Brett M. Morris*"
   ]
  },
  {
   "cell_type": "markdown",
   "id": "1",
   "metadata": {},
   "source": [
    "## What is SunPy?"
   ]
  },
  {
   "cell_type": "markdown",
   "id": "2",
   "metadata": {},
   "source": [
    "## The sunpy core package\n",
    "\n",
    "A community-developed free and open-source software package for solar physics.\n",
    "\n",
    "## The SunPy Project\n",
    "\n",
    "To facilitate and promote the use and development of a community-led, free and open-source solar data-analysis software based on the scientific Python environment."
   ]
  },
  {
   "cell_type": "markdown",
   "id": "3",
   "metadata": {},
   "source": [
    "![sunpy core summary](./images/sunpy_project.svg)"
   ]
  },
  {
   "cell_type": "markdown",
   "id": "4",
   "metadata": {},
   "source": [
    "## What is Astropy?"
   ]
  },
  {
   "cell_type": "markdown",
   "id": "5",
   "metadata": {},
   "source": [
    "## The astropy core package\n",
    "\n",
    "A community-driven, open-source, open-development Python library for Astronomy providing core functionality for more specialized astronomy packages.\n",
    "\n",
    "## The Astropy project\n",
    "\n",
    "A community effort to develop the core package and foster an ecosystem of interoperable astronomy packages."
   ]
  },
  {
   "cell_type": "markdown",
   "id": "6",
   "metadata": {
    "tags": []
   },
   "source": [
    "## This Tutorial\n",
    "\n",
    "In this tutorial, we're going to be studying a flare and subsequent CME that was observed simultaneously by SDO/AIA, STEREO/EUVI, and GOES/XRS.\n",
    "Below is a quick GIF of the CME as seen by the LASCO coronagraph generated using [Helioviewer](https://helioviewer.org/)."
   ]
  },
  {
   "cell_type": "markdown",
   "id": "7",
   "metadata": {},
   "source": [
    "![foo](https://i.imgur.com/TYBKKtX.gif)"
   ]
  },
  {
   "cell_type": "markdown",
   "id": "8",
   "metadata": {},
   "source": [
    "We can use the [Solar-MACH tool](https://solar-mach.github.io/) (which you'll hear more about later this week) to easily peek at the relative positions of the spacecraft.\n",
    "The relative orientation of our three observatories, SDO, STEREO-A, and Solar Orbiter, gives us a unique opportunity to examine this eruption from multiple viewpoints."
   ]
  },
  {
   "cell_type": "markdown",
   "id": "9",
   "metadata": {},
   "source": [
    "<img src=\"images/Solar-MACH_2022-03-28_11-00-00.png\" width=\"75%\"></img>"
   ]
  },
  {
   "cell_type": "markdown",
   "id": "10",
   "metadata": {},
   "source": [
    "This tutorial will be covering different components:\n",
    "\n",
    "- Data Search and Download\n",
    "- Data Containers: Map and Timeseries\n",
    "- Working with Solar Coordinates\n",
    "\n",
    "We will use the above dataset to illustrate each of these components of the `sunpy` codebase.\n",
    "\n",
    "The astropy material covered here is focused on its relationship to `sunpy` and is not a general astropy tutorial.\n",
    "[For that, the PyHC Summer School 2022 astropy material is an excellent source](https://github.com/heliophysicsPy/summer-school/tree/main/astropy-tutorial)"
   ]
  },
  {
   "cell_type": "markdown",
   "id": "11",
   "metadata": {},
   "source": [
    "Throughout the notebook for this tutorial, there will be a few exercises to keep things interactive and break up the lecture a bit.\n",
    "These are marked in the following way:\n",
    "\n",
    "<div class=\"alert alert-block alert-warning\"\\>\n",
    "<h3><u>EXERCISE:</u>\n",
    "<br><br>This orange block denotes an exercise that involves writing a few lines of code or modifying the tutorial materials in some way.</h3>\n",
    "</div>"
   ]
  },
  {
   "cell_type": "markdown",
   "id": "12",
   "metadata": {
    "tags": []
   },
   "source": [
    "## SunPy Resources\n",
    "\n",
    "Below are a few helpful links for finding out more about SunPy, including our webpage, documentation, and our chat room:\n",
    "\n",
    "* [sunpy.org](https://sunpy.org/)\n",
    "* [sunpy Documentation](https://docs.sunpy.org/en/stable/)\n",
    "* [List of Affiliated Packages](https://sunpy.org/affiliated/)\n",
    "* [Element.io Chat Room](https://openastronomy.element.io/#/room/#sunpy:openastronomy.org)\n",
    "* [OpenAstronomy Discourse](https://community.openastronomy.org/c/sunpy/5)"
   ]
  },
  {
   "cell_type": "markdown",
   "id": "13",
   "metadata": {},
   "source": [
    "## Astropy Resources\n",
    "\n",
    "Below are a few helpful links for finding out more about Astropy, including their webpage, documentation, and chat room:\n",
    "\n",
    "* [astropy.org](https://astropy.org/)\n",
    "* [astropy Documentation](https://docs.astropy.org/en/stable/)\n",
    "* [List of astropy Affiliated Packages](https://www.astropy.org/affiliated/index.html)\n",
    "* [Slack Room](https://astropy.slack.com/)\n",
    "* [OpenAstronomy Discourse](https://community.openastronomy.org/c/astropy/8)\n",
    "* [Full astropy tutorial from summmer school 2022](https://github.com/heliophysicsPy/summer-school/tree/main/astropy-tutorial)"
   ]
  }
 ],
 "metadata": {
  "kernelspec": {
   "display_name": "Python 3 (ipykernel)",
   "language": "python",
   "name": "python3"
  },
  "language_info": {
   "codemirror_mode": {
    "name": "ipython",
    "version": 3
   },
   "file_extension": ".py",
   "mimetype": "text/x-python",
   "name": "python",
   "nbconvert_exporter": "python",
   "pygments_lexer": "ipython3",
   "version": "3.12.3"
  },
  "toc-autonumbering": false,
  "toc-showmarkdowntxt": true,
  "toc-showtags": false
 },
 "nbformat": 4,
 "nbformat_minor": 5
}

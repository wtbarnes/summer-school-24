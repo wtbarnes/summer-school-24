{
 "cells": [
  {
   "cell_type": "markdown",
   "id": "bf526f58-fe08-4bc5-a276-60ed1b09be38",
   "metadata": {},
   "source": [
    "# Data Structures: `Map` and `Timeseries`"
   ]
  },
  {
   "cell_type": "code",
   "execution_count": null,
   "id": "64a48dc3-c8f3-404b-9050-618d306d7fc5",
   "metadata": {},
   "outputs": [],
   "source": [
    "import copy\n",
    "import glob\n",
    "\n",
    "import matplotlib\n",
    "import matplotlib.pyplot as plt\n",
    "from mpl_toolkits.axes_grid1 import make_axes_locatable\n",
    "import numpy as np\n",
    "from IPython.display import HTML\n",
    "\n",
    "import astropy.table\n",
    "from astropy.coordinates import SkyCoord\n",
    "import astropy.units as u\n",
    "from astropy.visualization import AsymmetricPercentileInterval, ImageNormalize, LogStretch\n",
    "\n",
    "import sunpy.map\n",
    "import sunpy.timeseries\n",
    "import sunpy.sun.constants\n",
    "from sunpy.coordinates import Helioprojective"
   ]
  },
  {
   "cell_type": "markdown",
   "id": "ab7066c2-4cb4-4c5b-af4d-a025f19ed967",
   "metadata": {
    "tags": []
   },
   "source": [
    "## The `Map` Data Structure"
   ]
  },
  {
   "cell_type": "code",
   "execution_count": null,
   "id": "466f9ec2-b646-460e-9f38-3b02f71885cf",
   "metadata": {},
   "outputs": [],
   "source": [
    "aia_files = sorted(glob.glob('data/AIA/*.fits'))\n",
    "stereo_files = sorted(glob.glob('data/SECCHI/*.fts'))\n",
    "eui_files = sorted(glob.glob('data/EUI/*.fits'))"
   ]
  },
  {
   "cell_type": "markdown",
   "id": "87528a96-413b-4d92-a07d-7794189a500a",
   "metadata": {},
   "source": [
    "We create a `sunpy.map.Map` object by passing in the FITS file for a single AIA, SECCHI (STEREO), and EUI observation.\n",
    "We've purposefully chosen an observation after the eruption started."
   ]
  },
  {
   "cell_type": "code",
   "execution_count": null,
   "id": "a349f819-66a5-4885-85f9-c4f539afa9f2",
   "metadata": {},
   "outputs": [],
   "source": [
    "m_aia = sunpy.map.Map(aia_files[6])\n",
    "m_stereo = sunpy.map.Map(stereo_files[6])\n",
    "m_eui = sunpy.map.Map(eui_files[2])"
   ]
  },
  {
   "cell_type": "markdown",
   "id": "4b5cf4cb-b9e9-4c9b-a622-fe457018824e",
   "metadata": {},
   "source": [
    "We can easily visualize a map after loading it using the quicklook functionality."
   ]
  },
  {
   "cell_type": "code",
   "execution_count": null,
   "id": "424db5ea-7fdb-4d5c-999f-0ae48ed7080c",
   "metadata": {},
   "outputs": [],
   "source": [
    "m_stereo"
   ]
  },
  {
   "cell_type": "code",
   "execution_count": null,
   "id": "08963471-9510-4f3f-8736-09d4a2760c4f",
   "metadata": {},
   "outputs": [],
   "source": [
    "m_stereo.plot()"
   ]
  },
  {
   "cell_type": "markdown",
   "id": "6ac4ac1e-4f54-42fb-92d3-70b5b0a1a67d",
   "metadata": {},
   "source": [
    "We will talk much more about the `plot` command in later sections."
   ]
  },
  {
   "cell_type": "markdown",
   "id": "8597015c-ad3b-46a7-aeb1-3754b729ee59",
   "metadata": {},
   "source": [
    "### Attributes of `Map`"
   ]
  },
  {
   "cell_type": "markdown",
   "id": "99d0c0ce-2ab5-4930-8cff-ff2e221054bc",
   "metadata": {},
   "source": [
    "`Map` provides a common interface to most 2D imaging solar datasets and provides several useful pieces of metadata.\n",
    "As mentioned in the intro slide, `Map` is a container for holding your data and metadata (usually from the FITS header) together.\n",
    "\n",
    "The `.meta` and `.data` attributes provide access to the metadata and underlying array of image data, respectively."
   ]
  },
  {
   "cell_type": "code",
   "execution_count": null,
   "id": "e0fe6ae4-6ae0-444b-9d0a-57cda75acb86",
   "metadata": {},
   "outputs": [],
   "source": [
    "m_aia.data"
   ]
  },
  {
   "cell_type": "code",
   "execution_count": null,
   "id": "1b012aa9-675d-421c-955c-f51db6f274ed",
   "metadata": {},
   "outputs": [],
   "source": [
    "m_aia.meta"
   ]
  },
  {
   "cell_type": "markdown",
   "id": "2ac41689-8d9b-4b28-8a06-d839968c50c3",
   "metadata": {
    "tags": []
   },
   "source": [
    "However, this metadata can be terse, non-homogeneous, and sometimes difficult to parse.\n",
    "`Map` provides several attributes derived from the underlying raw metadata that expose a uniform interface to the metadata for each map."
   ]
  },
  {
   "cell_type": "code",
   "execution_count": null,
   "id": "c84c649c-9f0e-41e2-bf7b-972ec3fc5592",
   "metadata": {},
   "outputs": [],
   "source": [
    "m_aia.wavelength"
   ]
  },
  {
   "cell_type": "code",
   "execution_count": null,
   "id": "badc2133-f2d9-4b85-bc99-3f50483cbc44",
   "metadata": {},
   "outputs": [],
   "source": [
    "m_aia.rsun_meters"
   ]
  },
  {
   "cell_type": "code",
   "execution_count": null,
   "id": "20745042-0046-424d-b71f-79fb933f8418",
   "metadata": {},
   "outputs": [],
   "source": [
    "m_aia.rsun_obs"
   ]
  },
  {
   "cell_type": "code",
   "execution_count": null,
   "id": "bcb4344e-03b1-4320-b1a0-7cbf5d38b633",
   "metadata": {},
   "outputs": [],
   "source": [
    "m_eui.rsun_obs"
   ]
  },
  {
   "cell_type": "code",
   "execution_count": null,
   "id": "cc209cb8-a5c8-42a7-93f4-967ed97a99ab",
   "metadata": {},
   "outputs": [],
   "source": [
    "m_eui.processing_level"
   ]
  },
  {
   "cell_type": "code",
   "execution_count": null,
   "id": "e9897174-8abc-4b4b-b065-94674c7814a4",
   "metadata": {},
   "outputs": [],
   "source": [
    "m_stereo.instrument"
   ]
  },
  {
   "cell_type": "markdown",
   "id": "68298a09-20d8-4bc3-b167-dd53ccc7db7c",
   "metadata": {},
   "source": [
    "Each `Map` object also holds the unit system that the image data is in, expressed in terms of an `astropy.unit.Unit` object."
   ]
  },
  {
   "cell_type": "code",
   "execution_count": null,
   "id": "238c419b-28b0-4e99-9dd3-9c34dfa9db91",
   "metadata": {},
   "outputs": [],
   "source": [
    "m_eui.unit"
   ]
  },
  {
   "cell_type": "markdown",
   "id": "0c8bf1cd-a963-4ccf-9d9a-5ddbd49d2605",
   "metadata": {},
   "source": [
    "### Coordinate Information\n",
    "\n",
    "Each `Map` also exposes information about which coordinate system the image was taken in, including the location of the spacecraft that recorded that observation.\n",
    "\n",
    "`sunpy` leverages and extends the powerful `astropy` coordinate framework that we heard about in the previous tutorial.\n",
    "Additionally, we'll talk more about the `sunpy.coordinates` subpackage in the next notebook and show some neat examples."
   ]
  },
  {
   "cell_type": "markdown",
   "id": "22f3bffd-6d31-471a-b69b-ec6aec648fa2",
   "metadata": {},
   "source": [
    "For each `Map`, we can easily access what *coordinate frame* the observation cooresponds to."
   ]
  },
  {
   "cell_type": "code",
   "execution_count": null,
   "id": "8bb5b0b6-777c-4b86-8c2c-0721156d6cef",
   "metadata": {},
   "outputs": [],
   "source": [
    "m_aia.coordinate_frame"
   ]
  },
  {
   "cell_type": "markdown",
   "id": "ac6b72bf-2b0e-4fea-86c0-ef79a22d5259",
   "metadata": {},
   "source": [
    "Similarly, we can look at the location of the observer (as defined by the position of the satellite at the time of the observation)."
   ]
  },
  {
   "cell_type": "code",
   "execution_count": null,
   "id": "c8699eb1-fec3-4432-84df-73a3b3e8acda",
   "metadata": {},
   "outputs": [],
   "source": [
    "m_aia.observer_coordinate"
   ]
  },
  {
   "cell_type": "code",
   "execution_count": null,
   "id": "0ce84121-598e-4729-9345-d524c2fac6a1",
   "metadata": {},
   "outputs": [],
   "source": [
    "m_stereo.observer_coordinate"
   ]
  },
  {
   "cell_type": "code",
   "execution_count": null,
   "id": "c59f8564-e2b8-4443-b217-cc6050a22c9f",
   "metadata": {},
   "outputs": [],
   "source": [
    "m_eui.observer_coordinate"
   ]
  },
  {
   "cell_type": "markdown",
   "id": "87324f43-6df9-4676-b177-942db814189c",
   "metadata": {},
   "source": [
    "We can plot these observer coordinates to show the relative position, in heliographic longitude, of each spacecraft, similar to the SolarMACH plot we showed in our previous notebook.\n",
    "\n",
    "(**NOTE:** *It is not particuarly important to understand the intricacies of the plotting code below. This is merely to show we can use the coordination information in each map to visualize the relative positions of the three spacecraft we are concerned with here.*)"
   ]
  },
  {
   "cell_type": "code",
   "execution_count": null,
   "id": "9a21a665-f4c9-406c-a95d-78c4aaf6379d",
   "metadata": {
    "tags": []
   },
   "outputs": [],
   "source": [
    "fig = plt.figure(figsize=(8, 8))\n",
    "ax = plt.subplot(projection='polar')\n",
    "\n",
    "# Plot the Sun\n",
    "ax.plot(0, 0, marker='o', markersize=20, label='Sun', color='yellow')\n",
    "\n",
    "# Plot the satellite locations\n",
    "for m in [m_aia, m_stereo, m_eui]:\n",
    "    sat = m.observatory\n",
    "    coord = m.observer_coordinate\n",
    "    ax.plot(coord.lon.to('rad'), coord.radius.to(u.AU), 'o', label=sat)\n",
    "\n",
    "ax.set_theta_zero_location(\"S\")\n",
    "ax.set_rlabel_position(90)\n",
    "ax.set_rlim(0, 1.3)\n",
    "ax.legend()"
   ]
  },
  {
   "cell_type": "markdown",
   "id": "e5df04ef-7081-4f9f-a68e-90cf8e653399",
   "metadata": {
    "tags": []
   },
   "source": [
    "### Visualization"
   ]
  },
  {
   "cell_type": "markdown",
   "id": "b65517b9-ecdb-4c1c-beee-831866131f0e",
   "metadata": {},
   "source": [
    "In the astropy tutorial, we learned about how to create axes with projections derived from a particular WCS.\n",
    "`Map` provides some additional \"helpers\" for plotting the associated image data with the correct projection based on the WCS."
   ]
  },
  {
   "cell_type": "markdown",
   "id": "db6dd01f-f7d8-4d38-b844-58b0d6e8467b",
   "metadata": {},
   "source": [
    "At a minimum, this can be accomplished through the `.plot()` method."
   ]
  },
  {
   "cell_type": "code",
   "execution_count": null,
   "id": "4944cfc4-696e-4290-9e2a-b047061f7258",
   "metadata": {},
   "outputs": [],
   "source": [
    "m_aia.plot()"
   ]
  },
  {
   "cell_type": "markdown",
   "id": "357acc92-60bd-4fd9-b2ba-8f6350856fa3",
   "metadata": {},
   "source": [
    "This \"automagically\" creates a figure and an axis (with a projection based on the WCS of the map) and plots our map on that axis, with a colormap and normalization tailored for the specific map source.\n",
    "All of this visualization is built on top of `matplotlib` and the `WCSAxes` capabilities provided by `astropy` that we saw demoed earlier today.\n",
    "However, as you can see, the resulting default colorbar is not particularly useful.\n",
    "\n",
    "Because all of this plotting capability is built on top of `matplotlib`, we can easily customize the various components of our plot."
   ]
  },
  {
   "cell_type": "code",
   "execution_count": null,
   "id": "9eb01ca4-838c-4a2c-ac4e-14a74ef277d8",
   "metadata": {},
   "outputs": [],
   "source": [
    "plt.figure(figsize=(8,8))\n",
    "m_aia.plot(vmin=0,vmax=5e2)\n",
    "m_aia.draw_grid(lw=1, alpha=1)"
   ]
  },
  {
   "cell_type": "markdown",
   "id": "0f53cd33-1dfb-4e48-b2f9-afe67905746b",
   "metadata": {},
   "source": [
    "We can explictly create the axis and add the projection for the map if we want more fine-grained control over labels and titles.\n",
    "We can also easily adjust the limits on our colorbar using the `clip_interval` key."
   ]
  },
  {
   "cell_type": "code",
   "execution_count": null,
   "id": "223fd809-e621-4233-94c8-3013adde95c6",
   "metadata": {},
   "outputs": [],
   "source": [
    "fig = plt.figure(figsize=(6,5))\n",
    "ax = fig.add_subplot(111, projection=m_aia)\n",
    "im = m_aia.plot(axes=ax, clip_interval=(25,99.6)*u.percent)\n",
    "ax.set_title(r'A nicer AIA 304 $\\mathrm{\\AA}$ Plot')\n",
    "ax.coords[0].set_axislabel('HPC Lon')\n",
    "ax.coords[1].set_axislabel('HPC Lat')\n",
    "fig.colorbar(im)"
   ]
  },
  {
   "cell_type": "markdown",
   "id": "9c7749d6-5d22-49b3-bb0d-a9083d28b0ad",
   "metadata": {},
   "source": [
    "Or specify a new normalization altogether."
   ]
  },
  {
   "cell_type": "code",
   "execution_count": null,
   "id": "4e2cb616-7cec-4de4-ac85-77fc98f8b10a",
   "metadata": {},
   "outputs": [],
   "source": [
    "norm = ImageNormalize(vmin=0, vmax=200, stretch=LogStretch())"
   ]
  },
  {
   "cell_type": "code",
   "execution_count": null,
   "id": "106e809c-588d-44e1-9994-fbb983e912e7",
   "metadata": {},
   "outputs": [],
   "source": [
    "plt.figure(figsize=(8,8))\n",
    "m_eui.plot(norm=norm)"
   ]
  },
  {
   "cell_type": "markdown",
   "id": "1e9e0208-a680-4bd7-a24f-f82584009e76",
   "metadata": {},
   "source": [
    "<div class=\"alert alert-block alert-warning\">\n",
    "    <h3><u>EXERCISE:</u> <br><br>How would I change the colormap for the above plot?</h3>\n",
    "</div>"
   ]
  },
  {
   "cell_type": "code",
   "execution_count": null,
   "id": "dd1a36c7-c141-44aa-b938-e08307d40bc6",
   "metadata": {},
   "outputs": [],
   "source": [
    "# INSTRUCTOR BLOCK\n",
    "plt.figure(figsize=(8,8))\n",
    "m_eui.plot(norm=norm, cmap='inferno')"
   ]
  },
  {
   "cell_type": "code",
   "execution_count": null,
   "id": "32d877dd-ce12-4357-89b0-a5092278a773",
   "metadata": {},
   "outputs": [],
   "source": [
    "# STUDENT BLOCK"
   ]
  },
  {
   "cell_type": "markdown",
   "id": "5c3639ee-1ef9-458c-959a-1fe73a460245",
   "metadata": {},
   "source": [
    "Using `matplotlib` combined with `WCSAxes`, we can build more complex, publication-quality visualizations.\n",
    "\n",
    "(**NOTE:** It is not necessary to fully understand every intricacy of the plotting code below during the course of the tutorial. This is merely to show how `Map.plot` can be be used to make more complex plots.)"
   ]
  },
  {
   "cell_type": "code",
   "execution_count": null,
   "id": "37750e83-091f-42e4-8dd1-22e42431dc12",
   "metadata": {},
   "outputs": [],
   "source": [
    "fig = plt.figure(figsize=(15,5))\n",
    "\n",
    "for i, m in enumerate([m_aia, m_stereo, m_eui]):\n",
    "    # Create the axis with the appropriate projection\n",
    "    ax = fig.add_subplot(1,3,i+1,projection=m)\n",
    "    \n",
    "    # Add the plot to the axis\n",
    "    im = m.plot(axes=ax, annotate=False, clip_interval=(25,99.5)*u.percent)\n",
    "    \n",
    "    # Make the HPC grid lines visible\n",
    "    ax.coords.grid(alpha=1, ls='-')\n",
    "    \n",
    "    # Adjust the labels and ticks\n",
    "    if i > 0:\n",
    "        ax.coords[1].set_auto_axislabel(False)\n",
    "    else:\n",
    "        ax.coords[1].set_axislabel('Solar-Y')\n",
    "    ax.coords[0].set_axislabel('Solar-X')\n",
    "    ax.coords[1].set_ticklabel(rotation=90,)\n",
    "    \n",
    "    # Put a label on each plot\n",
    "    ax.text(m.data.shape[1]//2, m.data.shape[0]*.97, m.observatory,\n",
    "            color='w',\n",
    "            horizontalalignment='center',\n",
    "            verticalalignment='top',\n",
    "            fontsize=14)\n",
    "    \n",
    "    # Add a colorbar to the top of each plot\n",
    "    divider = make_axes_locatable(ax)\n",
    "    cax = divider.append_axes('top', size='4%', pad=0.1, axes_class=matplotlib.axes.Axes)\n",
    "    fig.colorbar(im, cax=cax, orientation='horizontal')\n",
    "    cax.xaxis.set_ticks_position(\"top\")\n",
    "    cax.xaxis.set_tick_params(direction='in')\n",
    "    \n",
    "plt.subplots_adjust(wspace=0.1)"
   ]
  },
  {
   "cell_type": "markdown",
   "id": "4f77f26d-6641-49a6-a5f5-b46cc17c4ed4",
   "metadata": {},
   "source": [
    "<div class=\"alert alert-block alert-warning\">\n",
    "    <h3><u>EXERCISE:</u> <br><br>Do you know why the grid lines in the STEREO and EUI images appear tilted relative to the image?</h3>\n",
    "</div>"
   ]
  },
  {
   "cell_type": "code",
   "execution_count": null,
   "id": "05f7eb10-6601-464e-82e9-68f41082c076",
   "metadata": {},
   "outputs": [],
   "source": []
  },
  {
   "cell_type": "markdown",
   "id": "6eaa3cac-b2fa-4221-ab04-10102f6913a9",
   "metadata": {},
   "source": [
    "### Animations with `MapSequence`"
   ]
  },
  {
   "cell_type": "markdown",
   "id": "0e5278af-c826-426e-959b-7b74bfe1033f",
   "metadata": {},
   "source": [
    "In addition, the `MapSequence` container provides a data container for holding multiple maps, such as in the case where you have a sequence of maps taken at successive times.\n",
    "We can create `MapSequence` objects by passing in our list of files and the `sequence=True` keyword argument."
   ]
  },
  {
   "cell_type": "code",
   "execution_count": null,
   "id": "61de48d5-f51c-4ff8-9937-0c18a64292c1",
   "metadata": {},
   "outputs": [],
   "source": [
    "eui_seq = sunpy.map.Map(eui_files, sequence=True)"
   ]
  },
  {
   "cell_type": "markdown",
   "id": "9cad99ed-4473-451e-af03-614dcf5c5c6f",
   "metadata": {},
   "source": [
    "The `MapSequence` can be indexed to return the individual `Map` objects at each time step."
   ]
  },
  {
   "cell_type": "code",
   "execution_count": null,
   "id": "c3d980e6-4603-4c35-9bf3-12ac599fe929",
   "metadata": {},
   "outputs": [],
   "source": [
    "eui_seq[0]"
   ]
  },
  {
   "cell_type": "markdown",
   "id": "3c5eb46b-12c8-456a-bbf5-b0cd7fd3989f",
   "metadata": {},
   "source": [
    "One of the most useful features of a `MapSequence` is the ability to create coordinate-aware visualizations of our stack of `Map` objects.\n",
    "To do this, we'll first create a a colormap normalization appropriate to the range of the data for every map in our stack."
   ]
  },
  {
   "cell_type": "code",
   "execution_count": null,
   "id": "64eeeb89-4fb9-4e7a-97d7-25d475847491",
   "metadata": {},
   "outputs": [],
   "source": [
    "vmin, vmax = AsymmetricPercentileInterval(1,99.5).get_limits(eui_seq.as_array())\n",
    "norm=ImageNormalize(vmin=vmin, vmax=vmax, stretch=LogStretch())"
   ]
  },
  {
   "cell_type": "markdown",
   "id": "9524c185-b1a7-4690-a451-0881971c3446",
   "metadata": {},
   "source": [
    "The `plot` method on our `MapSequence` object now returns an animation rather than a simple static plot."
   ]
  },
  {
   "cell_type": "code",
   "execution_count": null,
   "id": "2ecdb510-20df-4c1e-a3c8-a7ca83ae8309",
   "metadata": {},
   "outputs": [],
   "source": [
    "plt.figure(figsize=(10,10))\n",
    "eui_ani = eui_seq.plot(norm=norm)"
   ]
  },
  {
   "cell_type": "code",
   "execution_count": null,
   "id": "a8a43b67-67f4-45a7-a21e-65b9a5082ac2",
   "metadata": {
    "tags": []
   },
   "outputs": [],
   "source": [
    "HTML(eui_ani.to_jshtml())"
   ]
  },
  {
   "cell_type": "markdown",
   "id": "8bf86162-b5bd-465b-98c6-6b959220e995",
   "metadata": {},
   "source": [
    "We can do this with the STEREO data as well."
   ]
  },
  {
   "cell_type": "code",
   "execution_count": null,
   "id": "5e2e070b-b987-4e49-aa0f-a46e2eb5717d",
   "metadata": {},
   "outputs": [],
   "source": [
    "stereo_seq = sunpy.map.Map(stereo_files, sequence=True)\n",
    "vmin, vmax = AsymmetricPercentileInterval(1,99.5).get_limits(stereo_seq.as_array())\n",
    "norm=ImageNormalize(vmin=vmin, vmax=vmax, stretch=LogStretch())\n",
    "plt.figure(figsize=(10,10))\n",
    "stereo_ani = stereo_seq.plot(norm=norm)"
   ]
  },
  {
   "cell_type": "code",
   "execution_count": null,
   "id": "251847ea-adc5-4ad7-a050-30982d35617c",
   "metadata": {
    "tags": []
   },
   "outputs": [],
   "source": [
    "HTML(stereo_ani.to_jshtml())"
   ]
  },
  {
   "cell_type": "markdown",
   "id": "b860d48f-cc8f-4b85-a62a-6131ccc8d048",
   "metadata": {
    "tags": []
   },
   "source": [
    "### `Map` and WCS"
   ]
  },
  {
   "cell_type": "markdown",
   "id": "7d1b75f9-1eed-40ac-b2a5-ccc7d0a50acf",
   "metadata": {},
   "source": [
    "As we saw in the `astropy` tutorial, the world coordinate system (WCS) formalizes provides us a framework for transforming between pixel and world coordinates."
   ]
  },
  {
   "cell_type": "code",
   "execution_count": null,
   "id": "cd42f53e-7802-4e92-8258-9d65a593b31d",
   "metadata": {},
   "outputs": [],
   "source": [
    "m_aia.wcs"
   ]
  },
  {
   "cell_type": "code",
   "execution_count": null,
   "id": "ba79c8b3-79ed-40d2-9f2e-89aab614a923",
   "metadata": {},
   "outputs": [],
   "source": [
    "type(m_aia.wcs)"
   ]
  },
  {
   "cell_type": "markdown",
   "id": "fd4b431c-b593-4b5a-b40b-d0494e24c40e",
   "metadata": {},
   "source": [
    "We can use the associated `pixel_to_world` and `world_to_pixel` functions to transform between the world and pixel coordinates of our images."
   ]
  },
  {
   "cell_type": "code",
   "execution_count": null,
   "id": "2952572a-824b-4057-bc8a-fd253defe403",
   "metadata": {},
   "outputs": [],
   "source": [
    "m_aia.wcs.pixel_to_world(0*u.pix, 0*u.pix)"
   ]
  },
  {
   "cell_type": "code",
   "execution_count": null,
   "id": "351e078b-4604-4678-b43e-fb717441276e",
   "metadata": {},
   "outputs": [],
   "source": [
    "m_aia.bottom_left_coord"
   ]
  },
  {
   "cell_type": "markdown",
   "id": "f17c9bd9-8714-47c3-99af-dcdfc2af346e",
   "metadata": {},
   "source": [
    "The `bottom_left_coord` is the *center* of the pixel in the bottom left corner of our image."
   ]
  },
  {
   "cell_type": "code",
   "execution_count": null,
   "id": "3e797c33-8d69-4ab6-9dd4-015de2cb9a15",
   "metadata": {},
   "outputs": [],
   "source": [
    "m_aia.wcs.world_to_pixel(m_aia.bottom_left_coord)"
   ]
  },
  {
   "cell_type": "markdown",
   "id": "68ed7331-d617-4197-999b-5a48b2a16f24",
   "metadata": {},
   "source": [
    "Similarly, we can confirm that the `center` coordinate falls on the center of the map."
   ]
  },
  {
   "cell_type": "code",
   "execution_count": null,
   "id": "5cc35f89-c3df-4925-a3bc-c43ad7b7693c",
   "metadata": {},
   "outputs": [],
   "source": [
    "m_aia.center"
   ]
  },
  {
   "cell_type": "code",
   "execution_count": null,
   "id": "f3dcc898-b1c9-494b-8600-d4f5edc49df3",
   "metadata": {},
   "outputs": [],
   "source": [
    "m_aia.wcs.world_to_pixel(m_aia.center)"
   ]
  },
  {
   "cell_type": "code",
   "execution_count": null,
   "id": "64b04c72-1b9e-4a0b-b0f5-839f3ccdee21",
   "metadata": {},
   "outputs": [],
   "source": [
    "m_aia.dimensions"
   ]
  },
  {
   "cell_type": "markdown",
   "id": "6b49e923-e117-44ca-8259-f072a32e73e3",
   "metadata": {},
   "source": [
    "Note that the center of our AIA image does not align with the center of the Sun!"
   ]
  },
  {
   "cell_type": "code",
   "execution_count": null,
   "id": "c8865ebb-21b3-423b-89b7-b473a1d77b75",
   "metadata": {},
   "outputs": [],
   "source": [
    "m_aia.wcs.world_to_pixel(SkyCoord(Tx=0*u.arcsec, Ty=0*u.arcsec, frame=m_aia.coordinate_frame))"
   ]
  },
  {
   "cell_type": "markdown",
   "id": "67c62a36-a085-4d68-951f-e7a1abcc91d0",
   "metadata": {},
   "source": [
    "<div class=\"alert alert-block alert-warning\">\n",
    "    <h3><u>EXERCISE:</u> <br><br>How would you find the position of the center of the EUI map in the pixel coordinates of the AIA map?</h3>\n",
    "</div>"
   ]
  },
  {
   "cell_type": "code",
   "execution_count": null,
   "id": "e4a79c4a-5828-472e-a153-d7eea297f831",
   "metadata": {},
   "outputs": [],
   "source": []
  },
  {
   "cell_type": "markdown",
   "id": "ce598de0-5a9b-41bd-9433-acc0d48ec7f1",
   "metadata": {
    "tags": []
   },
   "source": [
    "### Basic Image Manipulation\n",
    "\n",
    "There are several methods on the `Map` object that provide capabilities for doing basic image manipulation in combination with the coordinate information attached to each `Map`."
   ]
  },
  {
   "cell_type": "markdown",
   "id": "df8df964-0d55-4be6-a5df-6933282d922d",
   "metadata": {},
   "source": [
    "#### Rotate"
   ]
  },
  {
   "cell_type": "markdown",
   "id": "b3f82517-62f5-4a70-b0e0-af7dc8b00cdd",
   "metadata": {},
   "source": [
    "The `.rotate` method applies a rotation in the image plane, i.e. about an axis out of the page. \n",
    "In the case where we do not specify an angle (or rotation matrix), the image will be rotated such that the world and pixel axes are aligned.\n",
    "In the case of an image in helioprojective coordinate system, this means that solar north will be aligned with the y-like pixel axis of the image."
   ]
  },
  {
   "cell_type": "code",
   "execution_count": null,
   "id": "cd58f2d0-0855-4fe8-aa32-797efdd1af0b",
   "metadata": {},
   "outputs": [],
   "source": [
    "m_stereo_rot = m_stereo.rotate(missing=m_stereo.min())"
   ]
  },
  {
   "cell_type": "markdown",
   "id": "f0011f6a-7265-416f-b5fd-238612931a06",
   "metadata": {},
   "source": [
    "By default, any missing values will be filled with \"NaN\". Here, we specify `missing` as the minimum intensity value of the map such."
   ]
  },
  {
   "cell_type": "code",
   "execution_count": null,
   "id": "c9c13b71-7d96-40b7-846b-edfeefec94fa",
   "metadata": {},
   "outputs": [],
   "source": [
    "fig = plt.figure(figsize=(11,5))\n",
    "ax = fig.add_subplot(121,projection=m_stereo)\n",
    "m_stereo.plot(axes=ax, vmin=800, vmax=5e3)\n",
    "ax.coords.grid(alpha=1, ls='-')\n",
    "ax = fig.add_subplot(122,projection=m_stereo_rot)\n",
    "m_stereo_rot.plot(axes=ax, vmin=800, vmax=5e3)\n",
    "ax.coords.grid(alpha=1, ls='-')"
   ]
  },
  {
   "cell_type": "markdown",
   "id": "66f60796-9269-4a33-9791-d5d32c3a986e",
   "metadata": {},
   "source": [
    "This rotation is also reflected in the updated metadata of the rotated image."
   ]
  },
  {
   "cell_type": "code",
   "execution_count": null,
   "id": "afe74ccc-962c-43a5-8902-f116d3776281",
   "metadata": {},
   "outputs": [],
   "source": [
    "m_stereo.rotation_matrix"
   ]
  },
  {
   "cell_type": "code",
   "execution_count": null,
   "id": "75c323f2-1863-430c-82b0-b68559e2be38",
   "metadata": {},
   "outputs": [],
   "source": [
    "m_stereo_rot.rotation_matrix"
   ]
  },
  {
   "cell_type": "markdown",
   "id": "ff288214-eee5-4a5e-a278-85a9d8af5c7e",
   "metadata": {},
   "source": [
    "Additionally, one can also specify some arbitrary angle to rotate the image by.\n",
    "Note that this angle is relative to the current orientation of the image."
   ]
  },
  {
   "cell_type": "code",
   "execution_count": null,
   "id": "4fc4e7e0-f545-46c1-9578-b4751d03c05c",
   "metadata": {},
   "outputs": [],
   "source": [
    "m_stereo_rot30 = m_stereo.rotate(angle=30*u.deg, missing=m_stereo.min())"
   ]
  },
  {
   "cell_type": "code",
   "execution_count": null,
   "id": "c035d060-00b9-4e5c-9bee-54567045d5c0",
   "metadata": {},
   "outputs": [],
   "source": [
    "fig = plt.figure(figsize=(5,5))\n",
    "ax = fig.add_subplot(111,projection=m_stereo_rot30)\n",
    "m_stereo_rot30.plot(axes=ax)\n",
    "ax.coords.grid(alpha=1, ls='-')"
   ]
  },
  {
   "cell_type": "markdown",
   "id": "e85b69e1-0986-4b32-83c9-0f3944b2281f",
   "metadata": {},
   "source": [
    "<div class=\"alert alert-block alert-warning\">\n",
    "    <h3><u>EXERCISE:</u> <br><br>How would you rotate the image such that there is exactly a 45 degree orientation between the world and pixel axes?</h3>\n",
    "</div>"
   ]
  },
  {
   "cell_type": "code",
   "execution_count": null,
   "id": "8c0bf87a-7eef-47b7-b50d-927ddb13b528",
   "metadata": {},
   "outputs": [],
   "source": []
  },
  {
   "cell_type": "markdown",
   "id": "ab809ded-1a43-45b2-bcfc-dc8e3f2df613",
   "metadata": {},
   "source": [
    "We'll apply a rotation to the AIA map as well."
   ]
  },
  {
   "cell_type": "code",
   "execution_count": null,
   "id": "3ca1b58e-205e-45ff-ba83-6ec6a1df4c47",
   "metadata": {},
   "outputs": [],
   "source": [
    "m_aia_rot = m_aia.rotate(missing=m_aia.min())"
   ]
  },
  {
   "cell_type": "markdown",
   "id": "4043555c-9c22-47d1-bdd1-696a1a4782f3",
   "metadata": {},
   "source": [
    "#### Cropping Images with `submap`"
   ]
  },
  {
   "cell_type": "markdown",
   "id": "66beae51-75f6-46e3-81e6-c1b30fea8584",
   "metadata": {},
   "source": [
    "We commonly want to pare down our full field-of-view to a particular region of interest.\n",
    "With a map, we can do this using the `submap` method.\n",
    "\n",
    "We can specify the region of our submap using world coordinates as specified by a `SkyCoord`.\n",
    "We will specify these coordinates in Heliographic Stonyhurst (HGS) coordinates.\n",
    "From the animation of the STEREO data above, we can identify approximately where the CME was launched from and crop our image around that region."
   ]
  },
  {
   "cell_type": "code",
   "execution_count": null,
   "id": "2539bcab-0a39-4a11-a970-73d6ef1750ab",
   "metadata": {},
   "outputs": [],
   "source": [
    "bottom_left = SkyCoord(lon=-20*u.deg, lat=-5*u.deg, radius=1*sunpy.sun.constants.radius,\n",
    "                       frame='heliographic_stonyhurst', obstime=m_aia.date)\n",
    "top_right = SkyCoord(lon=30*u.deg, lat=35*u.deg, radius=1*sunpy.sun.constants.radius,\n",
    "                     frame='heliographic_stonyhurst', obstime=m_aia.date)"
   ]
  },
  {
   "cell_type": "code",
   "execution_count": null,
   "id": "6c76f1b0-9a7b-453e-bbcd-0089bb4d42b3",
   "metadata": {},
   "outputs": [],
   "source": [
    "m_stereo_cropped = m_stereo.submap(bottom_left, top_right=top_right)"
   ]
  },
  {
   "cell_type": "code",
   "execution_count": null,
   "id": "848a0f19-10c7-4520-b8fd-386934c79271",
   "metadata": {},
   "outputs": [],
   "source": [
    "m_stereo_cropped"
   ]
  },
  {
   "cell_type": "markdown",
   "id": "41c63b3f-704b-4f70-97a0-c3d426241e5a",
   "metadata": {},
   "source": [
    "<div class=\"alert alert-block alert-warning\">\n",
    "    <h3><u>EXERCISE:</u> <br><br>The coordinates for our cutout can also be specified in pixel coordinates. Find the corners of our cutout in pixel coordinates and then create the same submap using those pixel coordinates.\n",
    "</h3>\n",
    "</div>"
   ]
  },
  {
   "cell_type": "code",
   "execution_count": null,
   "id": "588d6c7f-5b61-4a2a-802b-11b191853bc5",
   "metadata": {},
   "outputs": [],
   "source": []
  },
  {
   "cell_type": "markdown",
   "id": "0225a42f-4958-4050-af1f-5a7d072e4f8a",
   "metadata": {},
   "source": [
    "We can use those exact same coordinates to create a cutout from our AIA map."
   ]
  },
  {
   "cell_type": "code",
   "execution_count": null,
   "id": "1f91f015-4615-454c-8cc7-05d77544fc0a",
   "metadata": {},
   "outputs": [],
   "source": [
    "m_aia_cropped = m_aia.submap(bottom_left, top_right=top_right)"
   ]
  },
  {
   "cell_type": "code",
   "execution_count": null,
   "id": "c7a2f41d-c36f-472d-aa48-87039e811d74",
   "metadata": {},
   "outputs": [],
   "source": [
    "m_aia_cropped"
   ]
  },
  {
   "cell_type": "markdown",
   "id": "9fda6d89-4a01-4ffd-85a7-a47c37ae0f04",
   "metadata": {},
   "source": [
    "## The `Timeseries` Data Structure"
   ]
  },
  {
   "cell_type": "markdown",
   "id": "9c896ed6-46d6-430e-99a3-767181319608",
   "metadata": {},
   "source": [
    "In addition to `Map` for 2D image data, `sunpy` also provides a container for tabular time series data through the `TimeSeries` class.\n",
    "We can create a `TimeSeries` object in a very similar manner to how we create a `Map` object.\n",
    "\n",
    "Let's look at the corresponding GOES XRS data that we downloaded in the previous notebook."
   ]
  },
  {
   "cell_type": "code",
   "execution_count": null,
   "id": "da766a0e-7765-44d0-9d35-c898554e6a65",
   "metadata": {
    "tags": []
   },
   "outputs": [],
   "source": [
    "goes_files = sorted(glob.glob('data/XRS/*.nc'))"
   ]
  },
  {
   "cell_type": "code",
   "execution_count": null,
   "id": "28e210b0-548c-4bb0-84a9-80a1f8dd795f",
   "metadata": {},
   "outputs": [],
   "source": [
    "ts = sunpy.timeseries.TimeSeries(goes_files)"
   ]
  },
  {
   "cell_type": "code",
   "execution_count": null,
   "id": "e318f03a-ac40-40e6-b767-d865d2bcd738",
   "metadata": {},
   "outputs": [],
   "source": [
    "ts"
   ]
  },
  {
   "cell_type": "markdown",
   "id": "ae17775a-0bc7-4bb2-ba0a-cbd00c94dd38",
   "metadata": {},
   "source": [
    "As with `Map`, `TimeSeries` acts as a container for the data + metadata. We can access each component individually."
   ]
  },
  {
   "cell_type": "code",
   "execution_count": null,
   "id": "0f1be226-223e-474b-aac0-dee8c5eb1bfe",
   "metadata": {},
   "outputs": [],
   "source": [
    "ts.meta"
   ]
  },
  {
   "cell_type": "markdown",
   "id": "2e0269b0-3dda-4424-9fe0-766c539675a9",
   "metadata": {},
   "source": [
    "The `TimeSeries` object can also be converted to other formats like an `astropy` `Table` object"
   ]
  },
  {
   "cell_type": "code",
   "execution_count": null,
   "id": "5296341d-be79-46cf-bffc-14c02cbf6b38",
   "metadata": {},
   "outputs": [],
   "source": [
    "ts.to_table()"
   ]
  },
  {
   "cell_type": "markdown",
   "id": "c2eea1ce-769c-4e2d-affc-53ce7fbb6d69",
   "metadata": {},
   "source": [
    "or a `pandas` `DataFrame`"
   ]
  },
  {
   "cell_type": "code",
   "execution_count": null,
   "id": "840eef95-7ec9-483a-9cc7-b4757c0d53a7",
   "metadata": {},
   "outputs": [],
   "source": [
    "ts.to_dataframe()"
   ]
  },
  {
   "cell_type": "markdown",
   "id": "e894122f-451b-4b2c-8998-dfb06e547506",
   "metadata": {},
   "source": [
    "There are also a number of attributes on each `TimeSeries` derived from the data/metadata."
   ]
  },
  {
   "cell_type": "code",
   "execution_count": null,
   "id": "34506b53-c140-43b4-85d2-2d66bb77aad5",
   "metadata": {},
   "outputs": [],
   "source": [
    "ts.columns"
   ]
  },
  {
   "cell_type": "code",
   "execution_count": null,
   "id": "267cab59-b497-48f5-aff3-6a2000dae4f5",
   "metadata": {},
   "outputs": [],
   "source": [
    "ts.observatory"
   ]
  },
  {
   "cell_type": "code",
   "execution_count": null,
   "id": "43a0a295-e2a9-4b08-8342-105ee659ef8b",
   "metadata": {},
   "outputs": [],
   "source": [
    "ts.source"
   ]
  },
  {
   "cell_type": "code",
   "execution_count": null,
   "id": "52b45927-3312-4060-b1ca-29d40b7e0180",
   "metadata": {},
   "outputs": [],
   "source": [
    "ts.units"
   ]
  },
  {
   "cell_type": "markdown",
   "id": "caf8a3d4-fb4e-44e5-8032-8bd0b10a53b2",
   "metadata": {},
   "source": [
    "### Slicing and Visualizing `TimeSeries`"
   ]
  },
  {
   "cell_type": "markdown",
   "id": "b3b39573-0732-4f89-a2ce-e6772f935125",
   "metadata": {},
   "source": [
    "Note that this intensity `TimeSeries` spans 24 h of observation time and recall that we are only interested in the ~3 h interval in which the CME is visible in the 304 channel.\n",
    "We can truncate our timeseries around the times of interest.\n",
    "To do this, we can actually use the `date` property on our first and last EUI map from our sequence."
   ]
  },
  {
   "cell_type": "code",
   "execution_count": null,
   "id": "6d08e2b3-1cae-4007-ac67-7b0228cb149c",
   "metadata": {},
   "outputs": [],
   "source": [
    "ts_cme = ts.truncate(eui_seq[0].date.iso, eui_seq[-1].date.iso)"
   ]
  },
  {
   "cell_type": "markdown",
   "id": "b37e33de-0a00-433a-b9b3-67ac078542d7",
   "metadata": {},
   "source": [
    "And then do a quicklook on our lightcurve."
   ]
  },
  {
   "cell_type": "code",
   "execution_count": null,
   "id": "a15f215f-6dc1-4c18-8092-f5b31ae3ee17",
   "metadata": {},
   "outputs": [],
   "source": [
    "ts_cme"
   ]
  },
  {
   "cell_type": "markdown",
   "id": "636b25fa-6156-45c9-8e1b-74cb263bc285",
   "metadata": {},
   "source": [
    "As expected, we find that there is a flare occuring right around the time the CME occurs. This should not be surprising as we saw from the AIA data that the CME was Earth-directed such that GOES was well-position to observed the flare."
   ]
  },
  {
   "cell_type": "markdown",
   "id": "f678ddb4-fc4a-4d62-8146-941a9f77d211",
   "metadata": {},
   "source": [
    "We can also zoom in a bit on the beginning of the flare."
   ]
  },
  {
   "cell_type": "code",
   "execution_count": null,
   "id": "fcb8e91d-2ab7-4557-9c56-b8c8b04ab59a",
   "metadata": {},
   "outputs": [],
   "source": [
    "fig = plt.figure()\n",
    "ax = fig.gca()\n",
    "ts_cme.plot(axes=ax)\n",
    "ax.set_xlim('2022-03-28 11:00', '2022-03-28 11:30')"
   ]
  },
  {
   "cell_type": "markdown",
   "id": "d6a9df74-c917-4159-8f4a-d783faae2106",
   "metadata": {},
   "source": [
    "As expected, we find that the flare, as detected by GOES, begins just before the eruption is seen the 304 channel of EUI at 11:20."
   ]
  },
  {
   "cell_type": "code",
   "execution_count": null,
   "id": "078cb993-c7f6-4148-8edb-8071bde80ec4",
   "metadata": {},
   "outputs": [],
   "source": []
  }
 ],
 "metadata": {
  "language_info": {
   "codemirror_mode": {
    "name": "ipython",
    "version": 3
   },
   "file_extension": ".py",
   "mimetype": "text/x-python",
   "name": "python",
   "nbconvert_exporter": "python",
   "pygments_lexer": "ipython3",
   "version": "3.10.4"
  }
 },
 "nbformat": 4,
 "nbformat_minor": 5
}

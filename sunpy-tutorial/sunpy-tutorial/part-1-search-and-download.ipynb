{
 "cells": [
  {
   "cell_type": "markdown",
   "id": "120afae3-e858-4a0a-a923-39ea66d9c95f",
   "metadata": {},
   "source": [
    "# Data Search and Download"
   ]
  },
  {
   "cell_type": "code",
   "execution_count": null,
   "id": "a31c066c-871b-43cc-bf29-5de53eb90a11",
   "metadata": {},
   "outputs": [],
   "source": [
    "import astropy.units as u\n",
    "\n",
    "from sunpy.net import Fido, attrs as a"
   ]
  },
  {
   "cell_type": "markdown",
   "id": "1d5c8378-632a-452a-b052-df4bf6a0f249",
   "metadata": {
    "slideshow": {
     "slide_type": "slide"
    }
   },
   "source": [
    "\n",
    "## Overview of the `Fido` Unified Downloader\n",
    "\n",
    "* Fido is sunpy's interface for searching and downloading solar physics data.\n",
    "* It offers a unified interface for searching and fetching data irrespective of the underlying client or webservice from where the data is obtained.\n",
    "* Offers a way to search and accesses multiple instruments and all available data providers in a single query.\n",
    "* It supplies a single, easy, consistent and *extendable* way to get most forms of solar physics data the community need \n",
    "\n",
    "Fido offers access to data available through:\n",
    "\n",
    " * **VSO**\n",
    " * **JSOC**\n",
    " * **Individual data providers** from web accessible sources (http, ftp, etc)\n",
    " * **HEK**\n",
    " * **HELIO**\n",
    " \n",
    "As described here Fido provides access to many sources of data through different `clients`, these clients can be defined inside sunpy or in other packages.\n",
    "Lets print the current list of available clients within sunpy."
   ]
  },
  {
   "cell_type": "code",
   "execution_count": null,
   "id": "05c7100b",
   "metadata": {},
   "outputs": [],
   "source": [
    "Fido"
   ]
  },
  {
   "cell_type": "markdown",
   "id": "73a6c22d-9d12-4834-a96d-10155ce4a6d4",
   "metadata": {},
   "source": [
    "You can list all of the supported instruments as well"
   ]
  },
  {
   "cell_type": "code",
   "execution_count": null,
   "id": "9cedb97f-84ec-497a-aa3c-3b151784e5b3",
   "metadata": {},
   "outputs": [],
   "source": [
    "a.Instrument"
   ]
  },
  {
   "cell_type": "markdown",
   "id": "a57261bf-6882-4e51-a597-e88c14fa5e7b",
   "metadata": {
    "tags": []
   },
   "source": [
    "## Searching for Data"
   ]
  },
  {
   "cell_type": "markdown",
   "id": "8238fd9b-67e1-4976-ad6d-30855a16ecc3",
   "metadata": {},
   "source": [
    "Sunpy uses specified *attributes* to search for data using Fido. The range of these attributes is located in the `attrs` submodule. These `attr` parameters can be combined together to construct data search queries, such as searching over a certain time period, for data from a certain instrument with a certain wavelength etc.\n",
    "\n",
    "Different clients and provides will have client-specific attributes, but the core attributes are:\n",
    "\n",
    "* `a.Time`\n",
    "* `a.Instrument`\n",
    "* `a.Wavelength`\n",
    "\n",
    "Let's use these different attributes to construct a query for our CME observation."
   ]
  },
  {
   "cell_type": "code",
   "execution_count": null,
   "id": "929cbfac-47ec-4925-b634-c150f3f8c3db",
   "metadata": {},
   "outputs": [],
   "source": [
    "cme_start = \"2022-03-28T11:00\"\n",
    "cme_end = \"2022-03-28T14:00\""
   ]
  },
  {
   "cell_type": "code",
   "execution_count": null,
   "id": "7249d34f-8e4c-4fff-8f05-7c52647d78f9",
   "metadata": {},
   "outputs": [],
   "source": [
    "cme_time = a.Time(cme_start, cme_end)"
   ]
  },
  {
   "cell_type": "markdown",
   "id": "024a36ac-c560-4e5d-b35a-a04448805bfd",
   "metadata": {},
   "source": [
    "We can inspect the instrument attribute to see what instrument `attrs` are currently supported through sunpy. Here we can see the instrument name (i.e. the name to be passed to the `a.Instrument` attribute, the client from which the data is available to access, and the full name of the instrument."
   ]
  },
  {
   "cell_type": "code",
   "execution_count": null,
   "id": "13fdc573",
   "metadata": {},
   "outputs": [],
   "source": [
    "a.Instrument"
   ]
  },
  {
   "cell_type": "markdown",
   "id": "1bf74d48-67e6-489f-bdcc-f0056bb75def",
   "metadata": {},
   "source": [
    "<div class=\"alert alert-block alert-warning\">\n",
    "    <h3><u>EXERCISE:</u> <br><br>Fido search attributes also support autcomplete. Try using the autcomplete feature in the notebook to look for your favorite instrument.</h3>\n",
    "</div>"
   ]
  },
  {
   "cell_type": "code",
   "execution_count": null,
   "id": "705a3d84",
   "metadata": {},
   "outputs": [],
   "source": []
  },
  {
   "cell_type": "markdown",
   "id": "79142238-2422-4410-8657-74d7290f0602",
   "metadata": {},
   "source": [
    "We can combine our time and instrument attributes to search for AIA data within our selected time range using `Fido.search`"
   ]
  },
  {
   "cell_type": "code",
   "execution_count": null,
   "id": "fd533109-7292-4d9a-a3ad-3bc24eb3b566",
   "metadata": {
    "tags": []
   },
   "outputs": [],
   "source": [
    "Fido.search(cme_time & a.Instrument.aia)"
   ]
  },
  {
   "cell_type": "markdown",
   "id": "912bcbbc-5eee-429e-821c-dc1f9b7cb510",
   "metadata": {},
   "source": [
    "We can further filter our results using the `Wavelength` search attribute."
   ]
  },
  {
   "cell_type": "code",
   "execution_count": null,
   "id": "ea3687de-e9ed-4dbd-ba21-eb15c94f46ba",
   "metadata": {},
   "outputs": [],
   "source": [
    "Fido.search(cme_time & a.Instrument.aia & a.Wavelength(304*u.angstrom))"
   ]
  },
  {
   "cell_type": "markdown",
   "id": "2e4e670b-09be-491d-a6ef-e1813a8ebe8b",
   "metadata": {
    "tags": []
   },
   "source": [
    "<div class=\"alert alert-block alert-warning\">\n",
    "    <h3><u>EXERCISE:</u> <br><br>We want to query the AIA data at a 5 minute cadence rather than the full 12 second cadence. How would we modify our above query to accomplish this?</h3>\n",
    "</div>"
   ]
  },
  {
   "cell_type": "code",
   "execution_count": null,
   "id": "77373ccd-4bd8-4382-87ff-016302508ccb",
   "metadata": {},
   "outputs": [],
   "source": []
  },
  {
   "cell_type": "code",
   "execution_count": null,
   "id": "30a46c53-f239-4b57-9987-243e4ce41960",
   "metadata": {},
   "outputs": [],
   "source": []
  },
  {
   "cell_type": "markdown",
   "id": "8e2ffe65-8a1a-4bc4-8100-0a2e56c2b71e",
   "metadata": {
    "tags": []
   },
   "source": [
    "<div class=\"alert alert-block alert-warning\">\n",
    "    <h3><u>EXERCISE:</u> <br><br>We've written a query for the AIA data above. How would we write a query for EUVI data from STEREO-A for the same time range, cadence, and wavelength?</h3>\n",
    "</div>"
   ]
  },
  {
   "cell_type": "code",
   "execution_count": null,
   "id": "c98b6307-deca-4c54-9b64-93ef974ccaf7",
   "metadata": {},
   "outputs": [],
   "source": []
  },
  {
   "cell_type": "markdown",
   "id": "7d683b3b-388c-41b1-a700-1b72c25c0723",
   "metadata": {
    "tags": []
   },
   "source": [
    "### Combining Queries"
   ]
  },
  {
   "cell_type": "markdown",
   "id": "b8d6a27a-05ae-4914-abf5-f985483d01e9",
   "metadata": {},
   "source": [
    "In addition to making queries for individual instruments, we can also logically combine queries for multiple instruments at once. For example, if we wanted to search for data from both AIA and SECCHI for the same time range and passband,"
   ]
  },
  {
   "cell_type": "code",
   "execution_count": null,
   "id": "d247808d-7a70-449f-8be1-0ab36eddf987",
   "metadata": {},
   "outputs": [],
   "source": [
    "Fido.search(cme_time, a.Instrument.aia | a.Instrument.secchi, a.Wavelength(304*u.angstrom), a.Sample(5*u.minute))"
   ]
  },
  {
   "cell_type": "markdown",
   "id": "854db439-8401-42c7-af95-c2b7e9e7abe3",
   "metadata": {},
   "source": [
    "What if we also wanted to look for the GOES XRS data during this same interval?\n",
    "GOES/XRS data does not have a `Wavelength` or `Sample` associated with it, but we can still combine the queries for all three of these instruments."
   ]
  },
  {
   "cell_type": "code",
   "execution_count": null,
   "id": "942ea682-ab79-4587-947a-f6816708a968",
   "metadata": {},
   "outputs": [],
   "source": [
    "aia_or_secchi = (a.Instrument.aia | a.Instrument.secchi) & a.Wavelength(304*u.angstrom) & a.Sample(5*u.minute)"
   ]
  },
  {
   "cell_type": "code",
   "execution_count": null,
   "id": "7480c9e1-a309-4bd8-9583-a234214c48fe",
   "metadata": {},
   "outputs": [],
   "source": [
    "goes_query = a.Instrument.xrs & a.goes.SatelliteNumber(17)"
   ]
  },
  {
   "cell_type": "code",
   "execution_count": null,
   "id": "f6b47246-8c6c-48f3-8280-5632c8503206",
   "metadata": {},
   "outputs": [],
   "source": [
    "combined_query = Fido.search(cme_time, aia_or_secchi | goes_query)"
   ]
  },
  {
   "cell_type": "code",
   "execution_count": null,
   "id": "c4f6a0a5-ba64-4c07-81ad-16e57248ae8c",
   "metadata": {},
   "outputs": [],
   "source": [
    "combined_query"
   ]
  },
  {
   "cell_type": "markdown",
   "id": "d8297e2e-acaf-4f62-8528-c4defa82fb5a",
   "metadata": {},
   "source": [
    "### Using External `Fido` Clients and Post-search filtering"
   ]
  },
  {
   "cell_type": "markdown",
   "id": "937a28a3-7ece-4bbe-9b02-58d648e49aa2",
   "metadata": {},
   "source": [
    "Within `sunpy` core, we support a number of clients to common data providers.\n",
    "However, the `Fido` search interface is extensible such that external packages can write that their own clients that extend `Fido` in order to additional data sources.\n",
    "One such example is the `sunpy_soar` package which adds a client for the Solar Orbter Archive (SOAR) which is located here at ESAC!"
   ]
  },
  {
   "cell_type": "code",
   "execution_count": null,
   "id": "6b29656f-6663-41e2-895a-710ca3f9d2d6",
   "metadata": {},
   "outputs": [],
   "source": [
    "import sunpy_soar"
   ]
  },
  {
   "cell_type": "markdown",
   "id": "db0a3c51-ab3a-4ca4-b975-aa1935b5e580",
   "metadata": {},
   "source": [
    "Note that after importing `sunpy_soar`, the SOAR is now listed as a client that `Fido` will search."
   ]
  },
  {
   "cell_type": "code",
   "execution_count": null,
   "id": "1f7cf746-ef23-41ab-a268-9a3f767e80e3",
   "metadata": {},
   "outputs": [],
   "source": [
    "Fido"
   ]
  },
  {
   "cell_type": "markdown",
   "id": "37db8b93-7f5f-485f-be66-fc0a7326acdf",
   "metadata": {},
   "source": [
    "We can now search for level 2 data from the 304 angstrom channel of the EUI instrument on SolO.\n",
    "Let's attach one last query to our combined query from above."
   ]
  },
  {
   "cell_type": "code",
   "execution_count": null,
   "id": "0c7f9802-50e9-48af-b20e-8dece841aebf",
   "metadata": {},
   "outputs": [],
   "source": [
    "eui_query = a.Level(2) & a.soar.Product('EUI-FSI304-IMAGE')"
   ]
  },
  {
   "cell_type": "code",
   "execution_count": null,
   "id": "0ab100c4-ec89-4531-bba4-48ba0a85cd64",
   "metadata": {},
   "outputs": [],
   "source": [
    "combined_query = Fido.search(cme_time, aia_or_secchi | goes_query | eui_query)"
   ]
  },
  {
   "cell_type": "markdown",
   "id": "efe48a66-11ba-45a0-a3bc-c9f02d323231",
   "metadata": {},
   "source": [
    "Now, we have a total of 4 results from our 4 different instruments for the same time interval."
   ]
  },
  {
   "cell_type": "code",
   "execution_count": null,
   "id": "ac568b82-caa3-4515-adb4-24f25e1df651",
   "metadata": {},
   "outputs": [],
   "source": [
    "combined_query"
   ]
  },
  {
   "cell_type": "markdown",
   "id": "cb00fd93-a90d-4aed-a162-1ab97a97b726",
   "metadata": {
    "tags": []
   },
   "source": [
    "## Downloading Data"
   ]
  },
  {
   "cell_type": "markdown",
   "id": "28c719b4-b6c2-417c-b4df-21faccd86f54",
   "metadata": {},
   "source": [
    "We can easily make a single download request from all of our different clients by passing in our combined query for AIA, EUVI, EUI and XRS."
   ]
  },
  {
   "cell_type": "code",
   "execution_count": null,
   "id": "3d655074-3164-4888-98f0-6f69e8533eb8",
   "metadata": {},
   "outputs": [],
   "source": [
    "files = Fido.fetch(combined_query, path='data/{instrument}')"
   ]
  },
  {
   "cell_type": "code",
   "execution_count": null,
   "id": "80df6457-98fb-4c1b-9511-7b9749cb30bb",
   "metadata": {},
   "outputs": [],
   "source": [
    "files"
   ]
  },
  {
   "cell_type": "code",
   "execution_count": null,
   "id": "5a1184c4-fa1a-4823-83b2-1db647915fae",
   "metadata": {},
   "outputs": [],
   "source": [
    "Fido.fetch(files)"
   ]
  }
 ],
 "metadata": {
  "language_info": {
   "codemirror_mode": {
    "name": "ipython",
    "version": 3
   },
   "file_extension": ".py",
   "mimetype": "text/x-python",
   "name": "python",
   "nbconvert_exporter": "python",
   "pygments_lexer": "ipython3",
   "version": "3.10.4"
  }
 },
 "nbformat": 4,
 "nbformat_minor": 5
}

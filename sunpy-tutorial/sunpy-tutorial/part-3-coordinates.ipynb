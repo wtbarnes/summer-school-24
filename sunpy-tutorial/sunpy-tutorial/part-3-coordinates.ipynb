{
 "cells": [
  {
   "cell_type": "markdown",
   "id": "8b6f5843-0078-4c9b-9e25-fa38c8d7d53e",
   "metadata": {},
   "source": [
    "# Coordinates in the SunPy Ecosystem\n",
    "\n",
    "*(Parts of this notebook have been directly adapted from [this notebook](https://github.com/sunpy/aas-2021-workshop/blob/main/02-Introduction-to-Coordinates.ipynb) presented by Dr. Albert Y. Shih at the 2021 AAS SPD SunPy Workshop)*"
   ]
  },
  {
   "cell_type": "code",
   "execution_count": null,
   "id": "4da17e49-a017-41f1-af21-c7c8cc36a48b",
   "metadata": {},
   "outputs": [],
   "source": [
    "import glob\n",
    "\n",
    "import numpy as np\n",
    "import matplotlib.pyplot as plt\n",
    "from reproject import reproject_interp\n",
    "from reproject.mosaicking import reproject_and_coadd\n",
    "\n",
    "import astropy.units as u\n",
    "from astropy.coordinates import SkyCoord\n",
    "import astropy.time\n",
    "from astropy.wcs import WCS\n",
    "from astropy.visualization import time_support\n",
    "\n",
    "from sunpy.net import Fido, attrs as a\n",
    "from sunpy.coordinates import HeliographicStonyhurst, Helioprojective, get_earth\n",
    "import sunpy.map\n",
    "import sunpy.timeseries\n",
    "import sunpy.sun\n",
    "\n",
    "from aiapy.calibrate import degradation, correct_degradation"
   ]
  },
  {
   "cell_type": "markdown",
   "id": "c2f78448-f114-4505-9a16-04f54fe01d95",
   "metadata": {},
   "source": [
    "In this notebook, we will give a short introduction to the use of coordinates in `sunpy` and then demonstrate how the coordinates framework can be used to make full use of our observations from all three observatories."
   ]
  },
  {
   "cell_type": "markdown",
   "id": "c1cbba59-f4b4-412c-bab2-881e068de8e9",
   "metadata": {},
   "source": [
    "## Introduction to `sunpy.coordinates`"
   ]
  },
  {
   "cell_type": "markdown",
   "id": "a0dac631-9e99-4fad-abac-9bb90ebd8390",
   "metadata": {},
   "source": [
    "`sunpy` extends the `astropy.coordinates` framework by adding additional solar-specific coordinate frames and the accompanying transformations between them."
   ]
  },
  {
   "cell_type": "markdown",
   "id": "a2072445-39d2-4567-ba2d-f5e19f0b1eb2",
   "metadata": {},
   "source": [
    "![](images/coordinates.svg)"
   ]
  },
  {
   "cell_type": "markdown",
   "id": "130253ee-96b8-4842-8a4a-6ada4c9e4dbc",
   "metadata": {},
   "source": [
    "This transformation graph reveals some of the underlying complexity to the coordinates framework, but for normal situations, a user does not need to be aware what transformations are necessary.  Everything is taken care of \"under the hood\"!  This includes transformations between systems defined in SunPy (red box) and systems defined in Astropy (blue box)."
   ]
  },
  {
   "cell_type": "markdown",
   "id": "fd8195ff-85d8-49ae-b883-adb6cb4302ea",
   "metadata": {},
   "source": [
    "### A solar coordinate frame"
   ]
  },
  {
   "cell_type": "markdown",
   "id": "da6ea70f-84cc-40b4-b835-5cbb82250a2d",
   "metadata": {},
   "source": [
    "An example of a solar-specific coordinate system is the Stonyhurst heliographic (HGS) coordinate system. The HGS system is defined with the following Cartesian axes:\n",
    "\n",
    "* The origin is the center of the Sun\n",
    "* The Z-axis (+90 degrees latitude) is aligned with the Sun’s north pole.\n",
    "* The X-axis (0 degrees longitude and 0 degrees latitude) is perpendicular to the Z-axis such that the XZ-plane contains the Sun-Earth line.  That is, Earth is at 0 degrees longitude (but usually not at 0 degrees latitude).\n",
    "* The Y-axis (+90 degrees longitude and 0 degrees latitude) is perpendicular to both the X-axis and the Z-axis in a right-handed fashion.\n",
    "\n",
    "Then, the coordinate frame is the realization of this definition at a particular time, which defines the position/orientation of the Sun and the position of the Earth."
   ]
  },
  {
   "cell_type": "markdown",
   "id": "1210dd76-cafd-4aa8-be8e-ce0ed21ba004",
   "metadata": {},
   "source": [
    "Let's create a frame for Stonyhurst heliographic coordinates using SunPy's [`HeliographicStonyhurst` class](https://docs.sunpy.org/en/stable/api/sunpy.coordinates.frames.HeliographicStonyhurst.html):"
   ]
  },
  {
   "cell_type": "code",
   "execution_count": null,
   "id": "ced6662d-2251-4178-8b4c-c9e99699c78f",
   "metadata": {},
   "outputs": [],
   "source": [
    "time = '2022-03-28 11:00'\n",
    "hgs_frame = HeliographicStonyhurst(obstime=time)\n",
    "hgs_frame"
   ]
  },
  {
   "cell_type": "markdown",
   "id": "3b2fbeab-20e3-46d5-b9ec-729fd7c8c2b8",
   "metadata": {},
   "source": [
    "### Coordinates and different representations"
   ]
  },
  {
   "cell_type": "markdown",
   "id": "2a62deee-04de-464e-9e06-df9768f05504",
   "metadata": {},
   "source": [
    "A **coordinate** combines position data with a `SkyCoord`.  This position data can have different **representations**, e.g., spherical components or Cartesian components."
   ]
  },
  {
   "cell_type": "code",
   "execution_count": null,
   "id": "e68014eb-9d92-4f63-bbd1-23a66a228347",
   "metadata": {},
   "outputs": [],
   "source": [
    "hgs_coord = SkyCoord(10*u.deg, 20*u.deg, 1*u.AU, frame=hgs_frame)  # longitude, latitude, and distance from the origin\n",
    "hgs_coord"
   ]
  },
  {
   "cell_type": "code",
   "execution_count": null,
   "id": "fcf4eac1-9b1f-4441-a9bd-334fcdeb94c4",
   "metadata": {},
   "outputs": [],
   "source": [
    "print(f\"\"\"Longitude: {hgs_coord.lon}\n",
    "Latitude: {hgs_coord.lat}\n",
    "Distance from Sun center: {hgs_coord.radius}\"\"\")"
   ]
  },
  {
   "cell_type": "markdown",
   "id": "12d3d931-2889-4b2c-bc57-00aed8ebf275",
   "metadata": {},
   "source": [
    "Stonyhurst heliographic coordinates with Cartesian components is also known as Heliocentric Earth Equatorial (HEEQ)."
   ]
  },
  {
   "cell_type": "code",
   "execution_count": null,
   "id": "c3b52b57-612c-40f7-8b62-52e025dfa7df",
   "metadata": {},
   "outputs": [],
   "source": [
    "hgs_coord_xyz = SkyCoord(hgs_coord, representation_type='cartesian')\n",
    "hgs_coord_xyz"
   ]
  },
  {
   "cell_type": "markdown",
   "id": "47e1d467-d84b-401a-9375-2f7c538a32d8",
   "metadata": {
    "tags": []
   },
   "source": [
    "<div class=\"alert alert-block alert-warning\">\n",
    "    <h3><u>EXERCISE:</u> <br><br>How would you access the individual components of the Cartesian HGS coordinate?</h3>\n",
    "</div>"
   ]
  },
  {
   "cell_type": "code",
   "execution_count": null,
   "id": "ee84f3ff-2473-4063-a4a0-c404f11dfcec",
   "metadata": {},
   "outputs": [],
   "source": []
  },
  {
   "cell_type": "markdown",
   "id": "934b10a5-a8b3-4007-abc2-03d9608904ea",
   "metadata": {},
   "source": [
    "### Observer-based frames"
   ]
  },
  {
   "cell_type": "markdown",
   "id": "e627b304-2b1c-41eb-981e-ac7e3ff39558",
   "metadata": {},
   "source": [
    "A number of coordinate frames are **observer-based**, which means that the position of the observer is fundamental to the definition of the coordinate frame.  For example, helioprojective Cartesian coordinates are aligned such that one axis is aligned with the Sun-observer line.  Let's use the above `HeliographicStonyhurst` coordinate as the observer for a [`Helioprojective` frame](https://docs.sunpy.org/en/stable/api/sunpy.coordinates.frames.Helioprojective.html), here for 2D helioprojective coordinates (theta_x, theta_y) = (123 arcsec, 456 arcsec)."
   ]
  },
  {
   "cell_type": "code",
   "execution_count": null,
   "id": "b28c2f4b-db51-41c0-a82a-4b5a4c626efd",
   "metadata": {},
   "outputs": [],
   "source": [
    "hpc_frame = Helioprojective(obstime=time, observer=hgs_coord)\n",
    "SkyCoord(123*u.arcsec, 456*u.arcsec, frame=hpc_frame)"
   ]
  },
  {
   "cell_type": "markdown",
   "id": "8d45c55e-a4ac-4398-89f6-bde234dc14f9",
   "metadata": {},
   "source": [
    "Recall that all of our images from the previous were defined in a Helioprojective frame such that the resulting center and corner coordinates were expressed in Helioprojective coordinates."
   ]
  },
  {
   "cell_type": "markdown",
   "id": "d290c5f0-05c6-4953-bea6-9787f5e15c33",
   "metadata": {},
   "source": [
    "## Applications"
   ]
  },
  {
   "cell_type": "markdown",
   "id": "677b7f39-73ec-4c6b-b9c1-b518c89d8243",
   "metadata": {
    "tags": []
   },
   "source": [
    "### Plotting Flare Position"
   ]
  },
  {
   "cell_type": "markdown",
   "id": "bc383d65-2803-4363-b8bb-b5211d45e6fb",
   "metadata": {
    "tags": []
   },
   "source": [
    "Let's use our newfound knowledge of coordinates to plot the positions of the detected flares around the time we know that the CME initiated.\n",
    "To find the metadata for any flares that were detected at this time, we'll again use `Fido` to query the Heliophysics Event Knowledgebase (HEK).\n",
    "This can be done by using the HEK client specific attributes `a.hek.attrs`."
   ]
  },
  {
   "cell_type": "code",
   "execution_count": null,
   "id": "83fac3c0-68b7-4b92-9b5a-36fbcf392fb9",
   "metadata": {},
   "outputs": [],
   "source": [
    "cme_start = \"2022-03-28 11:00\"\n",
    "cme_end = \"2022-03-28 12:00\""
   ]
  },
  {
   "cell_type": "markdown",
   "id": "0bd5481f-118e-4ecc-9225-5d2e86ff7cda",
   "metadata": {},
   "source": [
    "We'll choose only flare events who have a GOES class above C2.5"
   ]
  },
  {
   "cell_type": "code",
   "execution_count": null,
   "id": "2bf676a4-dae1-4387-a9bd-974fc9801626",
   "metadata": {},
   "outputs": [],
   "source": [
    "hek_result = Fido.search(a.Time(cme_start, cme_end),\n",
    "                         a.hek.EventType('FL'),\n",
    "                         a.hek.FL.GOESCls > 'C2.5')"
   ]
  },
  {
   "cell_type": "markdown",
   "id": "8e05744e-df77-4a39-91d1-3376c6640f6d",
   "metadata": {},
   "source": [
    "The HEK keeps track of a lot of information for each event in the database.\n",
    "Let's filter this down to the start, end, and peak times of the flare, the GOES classification, and the coordinates of the flare on the disk."
   ]
  },
  {
   "cell_type": "code",
   "execution_count": null,
   "id": "a63fc9f1-b6b7-4218-8bb3-ad8da42d48a9",
   "metadata": {},
   "outputs": [],
   "source": [
    "flare_table = hek_result['hek'][\n",
    "    'event_starttime',\n",
    "    'event_peaktime',\n",
    "    'event_endtime',\n",
    "    'fl_goescls',\n",
    "    'hpc_x',\n",
    "    'hpc_y',\n",
    "]"
   ]
  },
  {
   "cell_type": "code",
   "execution_count": null,
   "id": "649f7123-0b1d-4e26-947b-10b0bb5b7afb",
   "metadata": {},
   "outputs": [],
   "source": [
    "flare_table"
   ]
  },
  {
   "cell_type": "markdown",
   "id": "55067ae7-978d-4a38-9ab1-b8768eb411b2",
   "metadata": {},
   "source": [
    "Additionally, let's load back in our GOES XRS timeseries over the entire time interval of interest as well as our AIA, EUVI, and EUI maps."
   ]
  },
  {
   "cell_type": "code",
   "execution_count": null,
   "id": "99ab9e8b-a654-4ede-9f02-33a380edc929",
   "metadata": {},
   "outputs": [],
   "source": [
    "goes_files = sorted(glob.glob('data/XRS/*.nc'))\n",
    "ts = sunpy.timeseries.TimeSeries(goes_files)"
   ]
  },
  {
   "cell_type": "code",
   "execution_count": null,
   "id": "a5d644ba-e5ce-424d-a5e3-53b3d6e875f3",
   "metadata": {},
   "outputs": [],
   "source": [
    "aia_files = sorted(glob.glob('data/AIA/*.fits'))\n",
    "stereo_files = sorted(glob.glob('data/SECCHI/*.fts'))\n",
    "eui_files = sorted(glob.glob('data/EUI/*.fits'))\n",
    "m_aia, m_stereo, m_eui = sunpy.map.Map(aia_files[6],\n",
    "                                       stereo_files[6],\n",
    "                                       eui_files[2])"
   ]
  },
  {
   "cell_type": "markdown",
   "id": "41081bd1-6574-4805-ace8-c99091f58a3a",
   "metadata": {},
   "source": [
    "First, let's plot the times of the flares on top of our untruncated timeseries.\n",
    "We'll indicate each flare with a shaded blue region and our original time interval of interest that we used to query our imaging observations with orange."
   ]
  },
  {
   "cell_type": "code",
   "execution_count": null,
   "id": "d9d40cfe-01e6-407c-9e37-fbf5407addcb",
   "metadata": {},
   "outputs": [],
   "source": [
    "fig = plt.figure(figsize=(8,5))\n",
    "ax = fig.add_subplot(111)\n",
    "ts.plot(axes=ax)\n",
    "ax.axvspan(cme_start, cme_end, alpha=0.25, color='C1')\n",
    "for fl in flare_table:\n",
    "    ax.axvspan(fl['event_starttime'].iso, fl['event_endtime'].iso,\n",
    "               color='C0', alpha=0.25)"
   ]
  },
  {
   "cell_type": "markdown",
   "id": "4cf60c6e-7ae6-4a85-aca8-90d3c23439cb",
   "metadata": {},
   "source": [
    "We see from the plot and manually examining the table above that two of the flares from the HEK occurred near the beginning of the CME.\n",
    "\n",
    "To further understand whether these flares in the HEK database correspond to the observed CME, we can plot the positions of the flares that occurred near the start of our observing interval on our AIA image.\n",
    "\n",
    "We'll do this by first constructing a coordinate for each flare using the HPC positions returned by the HEK.\n",
    "Though not explicitly stated here, these coordinates are computed assuming an Earth-based observer at the start time of the event.\n",
    "\n",
    "We can get a `SkyCoord` denoting the position of Earth using the `sunpy.coordinates.get_earth` function."
   ]
  },
  {
   "cell_type": "code",
   "execution_count": null,
   "id": "1e5ec7d2-a5d5-4679-b381-6c64551a8c5e",
   "metadata": {},
   "outputs": [],
   "source": [
    "flare_coords = []\n",
    "for fl in flare_table:\n",
    "    earth = get_earth(fl['event_starttime'])\n",
    "    hpc_frame = Helioprojective(obstime=fl['event_starttime'], observer=earth)\n",
    "    hpc_coord = SkyCoord(Tx=fl['hpc_x']*u.arcsec, Ty=fl['hpc_y']*u.arcsec, frame=hpc_frame)\n",
    "    flare_coords.append(hpc_coord)"
   ]
  },
  {
   "cell_type": "markdown",
   "id": "deef5a62-fbf9-4aa4-8f7f-b2a28765b0e1",
   "metadata": {},
   "source": [
    "Finally, let's overplot these coordinates on our AIA and EUVI images.\n",
    "The `plot_coord` command takes in a `SkyCoord` object and automatically transforms the coordinate to the coordinate system defined by the WCS on that axis."
   ]
  },
  {
   "cell_type": "code",
   "execution_count": null,
   "id": "448dc1e0-0c59-4e56-8468-be849ced0daf",
   "metadata": {},
   "outputs": [],
   "source": [
    "fig = plt.figure(figsize=(15,7.5))\n",
    "for i,m in enumerate([m_aia, m_stereo]):\n",
    "    ax = fig.add_subplot(1,2,i+1, projection=m)\n",
    "    m.plot(axes=ax,clip_interval=(25,99.5)*u.percent)\n",
    "    for fl in flare_coords:\n",
    "        ax.plot_coord(fl, marker='X', color='C0', markersize=15)"
   ]
  },
  {
   "cell_type": "markdown",
   "id": "1efa64e2-8f37-47d6-a9e2-e25baa1b8246",
   "metadata": {},
   "source": [
    "We find that one of the flares queried from the HEK coincides with our observed CME while the other is offset to the south."
   ]
  },
  {
   "cell_type": "markdown",
   "id": "0f3ab988-63cc-4838-aa7e-f9fdb7554899",
   "metadata": {},
   "source": [
    "### Combining Data from AIA, EUI, and EUVI\n",
    "\n",
    "Finally, let's combine the data from all three of these observatories into a single image by *reprojecting* them into a common coordinate system.\n",
    "The approach we will follow here is adapted from [this example](https://docs.sunpy.org/en/stable/generated/gallery/map_transformations/reprojection_aia_euvi_mosaic.html#sphx-glr-generated-gallery-map-transformations-reprojection-aia-euvi-mosaic-py) from our gallery in the `sunpy` documentation."
   ]
  },
  {
   "cell_type": "markdown",
   "id": "7f28c894-a2eb-4278-919f-957d9fe3ff3a",
   "metadata": {},
   "source": [
    "#### Preparing the Image Data"
   ]
  },
  {
   "cell_type": "markdown",
   "id": "a82bd106-d7ba-4c2b-8566-7a5bc1384f9a",
   "metadata": {},
   "source": [
    "When combining these images all three need to assume the same radius of\n",
    "the Sun for the data. The AIA images specify a slightly different value\n",
    "than the IAU 2015 constant. To avoid coordinate transformation issues we\n",
    "reset this here.\n",
    "\n"
   ]
  },
  {
   "cell_type": "code",
   "execution_count": null,
   "id": "36c82079-03fa-4bc8-a13f-2fdf00e73e70",
   "metadata": {
    "jupyter": {
     "outputs_hidden": false
    }
   },
   "outputs": [],
   "source": [
    "m_stereo.meta['rsun_ref'] = sunpy.sun.constants.radius.to_value(u.m)\n",
    "m_aia.meta['rsun_ref'] = sunpy.sun.constants.radius.to_value(u.m)\n",
    "m_eui.meta['rsun_ref'] = sunpy.sun.constants.radius.to_value(u.m)"
   ]
  },
  {
   "cell_type": "markdown",
   "id": "9a127e1f-dc4c-422f-a73f-f185f0e8affe",
   "metadata": {},
   "source": [
    "Before combining all of our images, we need to make a few adjustments to some of the maps. First, recall that the EUI data are level 2 meaning the image has already been normalized by the exposure time."
   ]
  },
  {
   "cell_type": "code",
   "execution_count": null,
   "id": "00be8b2c-09f7-41ee-ad7a-e807edbbf991",
   "metadata": {},
   "outputs": [],
   "source": [
    "m_eui.unit"
   ]
  },
  {
   "cell_type": "markdown",
   "id": "9bc3d286-87e9-48bc-9df2-a2309bb0f2a6",
   "metadata": {},
   "source": [
    "Neither the AIA nor the EUVI map have been normalized to the exposure time so we do that here such that all images have the same units."
   ]
  },
  {
   "cell_type": "code",
   "execution_count": null,
   "id": "75c6e4a0-c742-45f2-9fd5-24ecde39f2b5",
   "metadata": {},
   "outputs": [],
   "source": [
    "m_aia /= m_aia.exposure_time\n",
    "m_stereo /= m_stereo.exposure_time"
   ]
  },
  {
   "cell_type": "markdown",
   "id": "20fdeba6-485f-4cd9-93e9-99c0511eea37",
   "metadata": {},
   "source": [
    "Additionally, the 304 channel of AIA has experienced significant degradation since the launch of the satellite in 2010.\n",
    "The SunPy affiliated package `aiapy` includes a model of this degradation as a function of time.\n",
    "To illustrate this, we can plot the degradation of the 304 channel (and 171 channel for reference) as a function of time."
   ]
  },
  {
   "cell_type": "code",
   "execution_count": null,
   "id": "c7a5c01a-b610-4da2-b3d6-a3464d35c0fe",
   "metadata": {},
   "outputs": [],
   "source": [
    "time_0 = astropy.time.Time('2010-03-25T00:00:00', scale='utc')\n",
    "now = astropy.time.Time.now()\n",
    "time = time_0 + np.arange(0, (now - time_0).to(u.day).value, 7) * u.day"
   ]
  },
  {
   "cell_type": "code",
   "execution_count": null,
   "id": "90e27d0e-54f3-4378-9174-6e562dc8eae2",
   "metadata": {},
   "outputs": [],
   "source": [
    "deg_171 = degradation(171*u.angstrom, time)\n",
    "deg_304 = degradation(304*u.angstrom, time)"
   ]
  },
  {
   "cell_type": "code",
   "execution_count": null,
   "id": "c9babcc6-d9bd-49c9-a1b3-1f49c0f097d7",
   "metadata": {},
   "outputs": [],
   "source": [
    "plt.figure(figsize=(8,5))\n",
    "with time_support(format='jyear'):\n",
    "    plt.plot(time, deg_171, label='171')\n",
    "    plt.plot(time, deg_304, label='304')\n",
    "plt.ylabel('Degradation')\n",
    "plt.legend()"
   ]
  },
  {
   "cell_type": "markdown",
   "id": "c99a6266-73c2-4740-ba0d-88aeb697d279",
   "metadata": {},
   "source": [
    "In order to bring the AIA 304 channel up to comparable intensity levels, we must correct for this degradation.\n",
    "Fortunately, `aiapy` provides a convenient function for applying this correction."
   ]
  },
  {
   "cell_type": "code",
   "execution_count": null,
   "id": "14c4a256-5d50-4e8a-8969-1b9f01f29e5d",
   "metadata": {},
   "outputs": [],
   "source": [
    "m_aia_corrected = correct_degradation(m_aia)"
   ]
  },
  {
   "cell_type": "markdown",
   "id": "f41893a5-7258-4b17-9944-f95a9bf5e31f",
   "metadata": {},
   "source": [
    "#### Reproject and Coadd"
   ]
  },
  {
   "cell_type": "markdown",
   "id": "7e9707a6-3e3a-4ee3-956b-a1e2d512def1",
   "metadata": {},
   "source": [
    "The next step is to calculate the output coordinate system for the combined\n",
    "map. We select a heliographic Stonyhurst frame, and a Plate Carree (CAR)\n",
    "projection, and generate a header using `sunpy.map.make_fitswcs_header` and\n",
    "then construct a World Coordinate System (WCS) object for that header.\n",
    "\n"
   ]
  },
  {
   "cell_type": "code",
   "execution_count": null,
   "id": "5c1631f2-edcf-49ba-90e8-167956bbac4f",
   "metadata": {
    "jupyter": {
     "outputs_hidden": false
    }
   },
   "outputs": [],
   "source": [
    "shape_out = (360, 720)  # This is set deliberately low to reduce memory consumption\n",
    "header = sunpy.map.make_fitswcs_header(shape_out,\n",
    "                                       SkyCoord(0, 0, unit=u.deg,\n",
    "                                                frame=\"heliographic_stonyhurst\",\n",
    "                                                obstime=m_aia_corrected.date),\n",
    "                                       scale=[360 / shape_out[1], 180 / shape_out[0]] * u.deg / u.pix,\n",
    "                                       wavelength=int(m_aia_corrected.meta['wavelnth']) * u.AA,\n",
    "                                       projection_code=\"CAR\")\n",
    "out_wcs = WCS(header)"
   ]
  },
  {
   "cell_type": "markdown",
   "id": "0de96651-94c1-4370-968d-0b1726cc5083",
   "metadata": {},
   "source": [
    "Next we call the `reproject.mosaicking.reproject_and_coadd` function, which\n",
    "takes a list of maps, and the desired output WCS and array shape.\n",
    "\n"
   ]
  },
  {
   "cell_type": "code",
   "execution_count": null,
   "id": "c18ea20b-ba5e-482f-adad-f477087ce8bb",
   "metadata": {
    "jupyter": {
     "outputs_hidden": false
    }
   },
   "outputs": [],
   "source": [
    "array, footprint = reproject_and_coadd([m_aia_corrected, m_stereo, m_eui], out_wcs, shape_out,\n",
    "                                       reproject_function=reproject_interp)"
   ]
  },
  {
   "cell_type": "markdown",
   "id": "0b21e2aa-ad75-425c-ae00-76e8a77eb94d",
   "metadata": {},
   "source": [
    "To display the output we construct a new map using the new array and our generated header."
   ]
  },
  {
   "cell_type": "code",
   "execution_count": null,
   "id": "4380026a-0070-4e8d-b106-274971bc2185",
   "metadata": {
    "jupyter": {
     "outputs_hidden": false
    }
   },
   "outputs": [],
   "source": [
    "outmap = sunpy.map.Map(array, header)"
   ]
  },
  {
   "cell_type": "code",
   "execution_count": null,
   "id": "b3fe4c60-7609-47d6-a35b-c8cb1c43ad10",
   "metadata": {},
   "outputs": [],
   "source": [
    "plt.figure(figsize=(10,5))\n",
    "outmap.plot(cmap='sdoaia304', norm=m_aia.plot_settings['norm'])"
   ]
  },
  {
   "cell_type": "markdown",
   "id": "d2acf58f-8740-4246-a1e2-e6d4d8dc59c4",
   "metadata": {},
   "source": [
    "#### Coordinate Dependent Weighting"
   ]
  },
  {
   "cell_type": "markdown",
   "id": "46dce2f3-7c18-4639-8c56-64eef70c76f3",
   "metadata": {
    "tags": []
   },
   "source": [
    "As you can see this leaves a little to be desired. To reduce the obvious warping towards the points which are close to the limb in the input images, we can define a set of weights to use when co-adding the output arrays.\n",
    "To reduce this warping we want to calculate an set of weights which highly weight points close to the center of the disk in the input image.\n",
    "\n",
    "We can achieve this by using sunpy's coordinate framework. First we calculate all the world coordinates for all the pixels in all three input maps."
   ]
  },
  {
   "cell_type": "code",
   "execution_count": null,
   "id": "82849d73-4711-4959-96df-974204fa6daf",
   "metadata": {},
   "outputs": [],
   "source": [
    "maps = [m_aia_corrected, m_stereo, m_eui]"
   ]
  },
  {
   "cell_type": "code",
   "execution_count": null,
   "id": "01ff191f-defc-4bfc-b282-2f29acdec4e5",
   "metadata": {
    "jupyter": {
     "outputs_hidden": false
    }
   },
   "outputs": [],
   "source": [
    "coordinates = tuple(map(sunpy.map.all_coordinates_from_map, maps))"
   ]
  },
  {
   "cell_type": "markdown",
   "id": "80f13e5c-29ba-41ed-bc89-0045e28652f7",
   "metadata": {},
   "source": [
    "To get a weighting which is high close to disk centre and low towards\n",
    "the limb, we can use the Z coordinate in the heliocentric frame. This\n",
    "coordinate is the distance of the sphere from the centre of the Sun\n",
    "towards the observer.\n",
    "\n"
   ]
  },
  {
   "cell_type": "code",
   "execution_count": null,
   "id": "194d8274-b1a1-44ee-9b8d-710ff8adbf79",
   "metadata": {
    "jupyter": {
     "outputs_hidden": false
    }
   },
   "outputs": [],
   "source": [
    "weights = [coord.transform_to(\"heliocentric\").z.value for coord in coordinates]"
   ]
  },
  {
   "cell_type": "markdown",
   "id": "503a98b6-dcdb-4a52-bf73-e74ebe50a61a",
   "metadata": {},
   "source": [
    "These weights are good, but they are better if the ramp down is a little\n",
    "smoother, and more biased to the centre. Also we can scale them to the\n",
    "range 0-1, and set any off disk (NaN) regions to 0.\n",
    "\n"
   ]
  },
  {
   "cell_type": "code",
   "execution_count": null,
   "id": "101ca469-14c7-4980-802d-ceb15e5085cf",
   "metadata": {
    "jupyter": {
     "outputs_hidden": false
    }
   },
   "outputs": [],
   "source": [
    "weights = [(w / np.nanmax(w)) ** 1.5 for w in weights]\n",
    "for w in weights:\n",
    "    w[np.isnan(w)] = 0"
   ]
  },
  {
   "cell_type": "code",
   "execution_count": null,
   "id": "7f9b08df-4d83-4778-bea6-a800dc2c4bc3",
   "metadata": {},
   "outputs": [],
   "source": [
    "plt.imshow(weights[0])\n",
    "plt.colorbar()"
   ]
  },
  {
   "cell_type": "markdown",
   "id": "2ecdccb2-720d-4d63-a49c-bc78f790d7c8",
   "metadata": {},
   "source": [
    "Now we can rerun the reprojection. This time we also set\n",
    "``match_background=True`` which scales the images by a single scaling\n",
    "factor so they are of similar brightness. We also set\n",
    "``background_reference=0`` which uses the AIA map as the reference for\n",
    "the background scaling."
   ]
  },
  {
   "cell_type": "code",
   "execution_count": null,
   "id": "af9ae912-18ad-4b42-8747-6730e58a61bd",
   "metadata": {
    "jupyter": {
     "outputs_hidden": false
    }
   },
   "outputs": [],
   "source": [
    "array, _ = reproject_and_coadd(maps, out_wcs, shape_out,\n",
    "                               input_weights=weights,\n",
    "                               reproject_function=reproject_interp,\n",
    "                               match_background=True,\n",
    "                               background_reference=0)"
   ]
  },
  {
   "cell_type": "markdown",
   "id": "72687b00-a049-4571-ad2d-bbb1748815c8",
   "metadata": {},
   "source": [
    "Once again we create a new map from our reprojected array and new header."
   ]
  },
  {
   "cell_type": "code",
   "execution_count": null,
   "id": "a7b0f918-6f14-4539-92e8-8eec9be07738",
   "metadata": {},
   "outputs": [],
   "source": [
    "combined_map = sunpy.map.Map(array, header)"
   ]
  },
  {
   "cell_type": "markdown",
   "id": "eafef9d9-4b82-4a24-953d-902bdf89b514",
   "metadata": {},
   "source": [
    "We can plot our corrected reprojected array, this time overlaying the limb as seen from the three different observatories.\n",
    "We'll also overplot the location of the flare as determined from the HEK."
   ]
  },
  {
   "cell_type": "code",
   "execution_count": null,
   "id": "cb085f23-627c-4825-b8b3-614a60c138bc",
   "metadata": {
    "jupyter": {
     "outputs_hidden": false
    }
   },
   "outputs": [],
   "source": [
    "fig = plt.figure(figsize=(15, 6))\n",
    "ax = fig.add_subplot(projection=combined_map)\n",
    "im = combined_map.plot(axes=ax, cmap='sdoaia304', norm=m_aia.plot_settings['norm'],\n",
    "                       clip_interval=(1,99.5)*u.percent,\n",
    "                       title='AIA + EUVI/A + EUI')\n",
    "\n",
    "# Fix the tick formatting\n",
    "lon, lat = ax.coords\n",
    "lon.set_coord_type(\"longitude\")\n",
    "lon.coord_wrap = 180\n",
    "lon.set_format_unit(u.deg)\n",
    "lat.set_coord_type(\"latitude\")\n",
    "lat.set_format_unit(u.deg)\n",
    "\n",
    "# Fix the labeling\n",
    "lon.set_axislabel('Heliographic Longitude', minpad=0.8)\n",
    "lat.set_axislabel('Heliographic Latitude', minpad=0.9)\n",
    "lon.set_ticks(spacing=25*u.deg, color='k')\n",
    "lat.set_ticks(spacing=15*u.deg, color='k')\n",
    "\n",
    "\n",
    "# Reset the view to pixel centers\n",
    "_ = ax.axis((0, shape_out[1], 0, shape_out[0]))\n",
    "\n",
    "# Draw the limb as defined by each spacecraft\n",
    "m_aia.draw_limb(axes=ax, color=\"C0\", lw=2, label='AIA')\n",
    "m_stereo.draw_limb(axes=ax, color=\"C2\", lw=2, label='EUVI')\n",
    "m_eui.draw_limb(axes=ax, color=\"C4\", lw=2, label='EUI')\n",
    "\n",
    "# Plot the flare location\n",
    "ax.plot_coord(flare_coords[1], marker='X', color='k', markersize=15, label='Flare')\n",
    "    \n",
    "# Add the legend and colorbar\n",
    "plt.legend()\n",
    "plt.colorbar(im, ax=ax)"
   ]
  },
  {
   "cell_type": "markdown",
   "id": "0fac5fd8-6054-4b47-a1c0-2a77650ad86c",
   "metadata": {},
   "source": [
    "You may notice that the reprojected shape of the three instruments varies in this projection.\n",
    "This is because of the relative angles of the spacecraft away from the solar equator, we can inspect this using the `.observer_coordinate` property of the maps:"
   ]
  },
  {
   "cell_type": "code",
   "execution_count": null,
   "id": "294a874f-8c39-4372-b973-3a8b40c5087f",
   "metadata": {},
   "outputs": [],
   "source": [
    "m_eui.observer_coordinate"
   ]
  },
  {
   "cell_type": "code",
   "execution_count": null,
   "id": "7162c61d-8e46-4b00-b0c9-e8d96306fada",
   "metadata": {},
   "outputs": [],
   "source": [
    "m_aia.observer_coordinate"
   ]
  },
  {
   "cell_type": "code",
   "execution_count": null,
   "id": "5a979b08-b597-43f7-9193-6770b13029bd",
   "metadata": {},
   "outputs": [],
   "source": [
    "m_stereo.observer_coordinate"
   ]
  }
 ],
 "metadata": {
  "language_info": {
   "codemirror_mode": {
    "name": "ipython",
    "version": 3
   },
   "file_extension": ".py",
   "mimetype": "text/x-python",
   "name": "python",
   "nbconvert_exporter": "python",
   "pygments_lexer": "ipython3",
   "version": "3.10.4"
  }
 },
 "nbformat": 4,
 "nbformat_minor": 5
}

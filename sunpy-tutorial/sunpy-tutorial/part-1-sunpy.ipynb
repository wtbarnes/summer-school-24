{
 "cells": [
  {
   "cell_type": "markdown",
   "id": "0",
   "metadata": {},
   "source": [
    "# sunpy (with astropy) tutorial"
   ]
  },
  {
   "cell_type": "markdown",
   "id": "1",
   "metadata": {},
   "source": [
    "## Part 0 - `astropy.units`\n",
    "\n",
    "Let us start with values and scientific units.\n",
    "How could one propagate unit information?"
   ]
  },
  {
   "cell_type": "code",
   "execution_count": null,
   "id": "2",
   "metadata": {},
   "outputs": [],
   "source": [
    "speed = 100 # km/s\n",
    "speed_kms = 100\n",
    "speed_cms = speed_kms * 100"
   ]
  },
  {
   "cell_type": "markdown",
   "id": "3",
   "metadata": {},
   "source": [
    "This doesn't scale and mistakes can be made. Google \"Mars Climate Orbiter\" for example of when units go wrong."
   ]
  },
  {
   "cell_type": "markdown",
   "id": "4",
   "metadata": {},
   "source": [
    "`astropy` includes a powerful framework for units that allows users to attach units to scalars and arrays.\n",
    "These quantities can be manipulated or combined, keeping track of the units.\n",
    "\n",
    "For more information about the features presented below, please see the [astropy.units](http://docs.astropy.org/en/stable/units/index.html) documentation."
   ]
  },
  {
   "cell_type": "code",
   "execution_count": null,
   "id": "5",
   "metadata": {},
   "outputs": [],
   "source": [
    "import astropy.units as u"
   ]
  },
  {
   "cell_type": "markdown",
   "id": "6",
   "metadata": {},
   "source": [
    "The primary goal of the `astropy.units` package is to be able to store, convert, display units in code.\n",
    "\n",
    "Based around the concept of \"Physical Types\". Today we will cover only SI units but CGS and others are available. "
   ]
  },
  {
   "cell_type": "code",
   "execution_count": null,
   "id": "7",
   "metadata": {},
   "outputs": [],
   "source": [
    "u.meter, u.m.__doc__, u.m.physical_type"
   ]
  },
  {
   "cell_type": "markdown",
   "id": "8",
   "metadata": {},
   "source": [
    "Notice that meter also has a shorthand called \"m\".\n",
    "\n",
    "You can create 1 unit, a range of units, and convert the unit."
   ]
  },
  {
   "cell_type": "code",
   "execution_count": null,
   "id": "9",
   "metadata": {},
   "outputs": [],
   "source": [
    "100 * u.meter, [1, 2, 4, 8] * u.km, (100 * u.meter).to(u.AA)"
   ]
  },
  {
   "cell_type": "markdown",
   "id": "10",
   "metadata": {},
   "source": [
    "This system enforces that calculations are legitimate:  "
   ]
  },
  {
   "cell_type": "code",
   "execution_count": null,
   "id": "11",
   "metadata": {},
   "outputs": [],
   "source": [
    "10 * u.meter + 100 * u.cm"
   ]
  },
  {
   "cell_type": "code",
   "execution_count": null,
   "id": "12",
   "metadata": {},
   "outputs": [],
   "source": [
    "1 * u.meter + 1 * u.gram"
   ]
  },
  {
   "cell_type": "markdown",
   "id": "13",
   "metadata": {},
   "source": [
    "In addition, there are fixed constants like G and c. fixed constants, and to do that we will calculate the Schwarzschild Black Hole Radius of the Sun"
   ]
  },
  {
   "cell_type": "code",
   "execution_count": null,
   "id": "14",
   "metadata": {},
   "outputs": [],
   "source": [
    "from astropy.constants import G, c"
   ]
  },
  {
   "cell_type": "markdown",
   "id": "15",
   "metadata": {},
   "source": [
    "<div class=\"alert alert-block alert-warning\">\n",
    "    <h3><u>EXERCISE:</u>\n",
    "    <br><br>\n",
    "    Calculate the Schwarzschild Black Hole Radius of the Sun\n",
    "    </h3>\n",
    "    $$R = \\frac{{2GM}}{{c^2 }}$$\n",
    "</div>"
   ]
  },
  {
   "cell_type": "code",
   "execution_count": null,
   "id": "16",
   "metadata": {},
   "outputs": [],
   "source": [
    "# INSTRUCTOR BLOCK\n",
    "R_sch = 2 * G * u.Msun / c**2\n",
    "R_sch.to(u.earthRad), R_sch.to(u.km)"
   ]
  },
  {
   "cell_type": "markdown",
   "id": "17",
   "metadata": {},
   "source": [
    "Other constants are available like the mass of the Sun.\n",
    "\n",
    "Unit also support equivalency (but you have to tell it)."
   ]
  },
  {
   "cell_type": "code",
   "execution_count": null,
   "id": "18",
   "metadata": {},
   "outputs": [],
   "source": [
    "(500*u.nm).to(u.Hz)"
   ]
  },
  {
   "cell_type": "markdown",
   "id": "19",
   "metadata": {},
   "source": [
    "To get this to convert, we can tell astropy.units about the specific equivalency you are after"
   ]
  },
  {
   "cell_type": "code",
   "execution_count": null,
   "id": "20",
   "metadata": {},
   "outputs": [],
   "source": [
    "(500*u.nm).to(u.Hz, u.spectral())"
   ]
  },
  {
   "cell_type": "markdown",
   "id": "21",
   "metadata": {},
   "source": [
    "numpy understands `astropy.units`"
   ]
  },
  {
   "cell_type": "code",
   "execution_count": null,
   "id": "22",
   "metadata": {},
   "outputs": [],
   "source": [
    "import numpy as np\n",
    "\n",
    "np.sin(90 * u.degree), np.sin(30 * u.rad)"
   ]
  },
  {
   "cell_type": "markdown",
   "id": "23",
   "metadata": {},
   "source": [
    "Lots of methods and functions in `sunpy` require values to have units attached to them.\n",
    "The first case will be us downloading data."
   ]
  },
  {
   "cell_type": "markdown",
   "id": "24",
   "metadata": {},
   "source": [
    "## Part 1 - Data Search and Download with sunpy\n",
    "\n",
    "We will start with the import statements that are littered throughout the sunpy documentation."
   ]
  },
  {
   "cell_type": "code",
   "execution_count": null,
   "id": "25",
   "metadata": {},
   "outputs": [],
   "source": [
    "from sunpy.net import Fido, attrs as a"
   ]
  },
  {
   "cell_type": "markdown",
   "id": "26",
   "metadata": {
    "slideshow": {
     "slide_type": "slide"
    }
   },
   "source": [
    "## Overview of the `Fido` Unified Downloader\n",
    "\n",
    "* Fido is sunpy's interface for searching and downloading solar physics data.\n",
    "* It offers a unified interface for searching and fetching data irrespective of the underlying client or web service from where the data is obtained.\n",
    "* Offers a way to search and accesses multiple instruments and all available data providers in a single query.\n",
    "* It supplies a single, easy, consistent and *extendable* way to get most forms of solar physics data the community need \n",
    "\n",
    "Fido currently offers access to data available through:\n",
    "\n",
    " * **Virtual Solar Observatory (VSO)**\n",
    " * **Joint Science Operations Center (JSOC)**\n",
    " * **Individual data providers** from web accessible sources (http, ftp, etc)\n",
    " * **Heliophysics Events Knowledgebase (HEK)**\n",
    " * **Heliophysics Feature Catalogue (HELIO)**\n",
    " * Other sources via a plugin system\n",
    " \n",
    "As described here Fido provides access to many sources of data through different `clients`, these clients can be defined inside sunpy or in other packages.\n",
    "\n",
    "Lets print the current list of available clients within sunpy."
   ]
  },
  {
   "cell_type": "code",
   "execution_count": null,
   "id": "27",
   "metadata": {},
   "outputs": [],
   "source": [
    "Fido"
   ]
  },
  {
   "cell_type": "markdown",
   "id": "28",
   "metadata": {
    "tags": []
   },
   "source": [
    "## Searching for Data\n",
    "\n",
    "sunpy uses specified *attributes* to search for data using Fido.\n",
    "The range of these attributes is located in the `attrs` submodule.\n",
    "These `attr` parameters can be combined together to construct data search queries, such as searching over a certain time period, for data from a certain instrument with a certain wavelength etc.\n",
    "\n",
    "Different clients and provides will have client-specific attributes, but the core attributes are:\n",
    "\n",
    "* `a.Time`\n",
    "* `a.Instrument`\n",
    "* `a.Wavelength`\n",
    "\n",
    "Let's use these different attributes to construct a query for our CME observation."
   ]
  },
  {
   "cell_type": "code",
   "execution_count": null,
   "id": "29",
   "metadata": {},
   "outputs": [],
   "source": [
    "cme_start = \"2022-03-28T11:00\"\n",
    "cme_end = \"2022-03-28T14:00\""
   ]
  },
  {
   "cell_type": "code",
   "execution_count": null,
   "id": "30",
   "metadata": {},
   "outputs": [],
   "source": [
    "cme_time = a.Time(cme_start, cme_end)"
   ]
  },
  {
   "cell_type": "markdown",
   "id": "31",
   "metadata": {},
   "source": [
    "What is this time object?"
   ]
  },
  {
   "cell_type": "code",
   "execution_count": null,
   "id": "32",
   "metadata": {},
   "outputs": [],
   "source": [
    "cme_time"
   ]
  },
  {
   "cell_type": "code",
   "execution_count": null,
   "id": "33",
   "metadata": {},
   "outputs": [],
   "source": [
    "cme_time.start, type(cme_time.start)"
   ]
  },
  {
   "cell_type": "markdown",
   "id": "34",
   "metadata": {},
   "source": [
    "## Part 1a - `astropy.time.Time`\n",
    "\n",
    "Python already has a built-in datetime package which handles standard dates, times, timezones and time deltas."
   ]
  },
  {
   "cell_type": "code",
   "execution_count": null,
   "id": "35",
   "metadata": {},
   "outputs": [],
   "source": [
    "import datetime"
   ]
  },
  {
   "cell_type": "markdown",
   "id": "36",
   "metadata": {},
   "source": [
    "We can get the current datetime"
   ]
  },
  {
   "cell_type": "code",
   "execution_count": null,
   "id": "37",
   "metadata": {},
   "outputs": [],
   "source": [
    "datetime.datetime.now(datetime.UTC)"
   ]
  },
  {
   "cell_type": "markdown",
   "id": "38",
   "metadata": {},
   "source": [
    "We can do some arithmetic with the datetime objects "
   ]
  },
  {
   "cell_type": "code",
   "execution_count": null,
   "id": "39",
   "metadata": {},
   "outputs": [],
   "source": [
    "datetime.datetime(2024,1,1) - datetime.timedelta(minutes = 1)"
   ]
  },
  {
   "cell_type": "markdown",
   "id": "40",
   "metadata": {},
   "source": [
    "So why do we need `astropy.time`?\n",
    "\n",
    "Two main areas:\n",
    "\n",
    " - Astronomical formats (e.g., Julian Date (JD), Modified JD (MJD))\n",
    " - Precise timing (e.g., a nanosecond over a Hubble Time)\n",
    "\n",
    "Neither are supported by the standard datetime library.\n",
    "\n",
    "So let us import the time objects from astropy"
   ]
  },
  {
   "cell_type": "code",
   "execution_count": null,
   "id": "41",
   "metadata": {},
   "outputs": [],
   "source": [
    "from astropy.time import Time, TimeDelta"
   ]
  },
  {
   "cell_type": "markdown",
   "id": "42",
   "metadata": {},
   "source": [
    "The MJD for a given date is the number of days to that date since Jan 1 4713 B.C. 00:00:00 (midnight)."
   ]
  },
  {
   "cell_type": "code",
   "execution_count": null,
   "id": "43",
   "metadata": {},
   "outputs": [],
   "source": [
    "time = Time(58086.182, format='mjd')\n",
    "time, time.isot"
   ]
  },
  {
   "cell_type": "markdown",
   "id": "44",
   "metadata": {},
   "source": [
    "You can quickly initialize a vector time array of 10 linearly separated times, starting at the current time, like so"
   ]
  },
  {
   "cell_type": "code",
   "execution_count": null,
   "id": "45",
   "metadata": {},
   "outputs": [],
   "source": [
    "times = Time.now() + np.linspace(0, 1, 10) * u.day\n",
    "times"
   ]
  },
  {
   "cell_type": "markdown",
   "id": "46",
   "metadata": {},
   "source": [
    "You can do arithmetic as well"
   ]
  },
  {
   "cell_type": "code",
   "execution_count": null,
   "id": "47",
   "metadata": {},
   "outputs": [],
   "source": [
    "times - TimeDelta(1, format='jd') # Defaults to days."
   ]
  },
  {
   "cell_type": "markdown",
   "id": "48",
   "metadata": {},
   "source": [
    "For nanoseconds, we have to adjust the precision"
   ]
  },
  {
   "cell_type": "code",
   "execution_count": null,
   "id": "49",
   "metadata": {},
   "outputs": [],
   "source": [
    "time = Time('1999-01-01T00:00:00.123456789')\n",
    "print(time)\n",
    "time.precision = 9\n",
    "print(time)"
   ]
  },
  {
   "cell_type": "markdown",
   "id": "50",
   "metadata": {},
   "source": [
    "You can convert to other time formats"
   ]
  },
  {
   "cell_type": "code",
   "execution_count": null,
   "id": "51",
   "metadata": {},
   "outputs": [],
   "source": [
    "time.jd, time.iso, time.datetime"
   ]
  },
  {
   "cell_type": "markdown",
   "id": "52",
   "metadata": {},
   "source": [
    "Notice that the nanoseconds are gone from the datetime version.\n",
    "\n",
    "So in summary, `astropy.time` is designed as a drop in replacement for datetime."
   ]
  },
  {
   "cell_type": "markdown",
   "id": "53",
   "metadata": {},
   "source": [
    "## Back to data searching"
   ]
  },
  {
   "cell_type": "markdown",
   "id": "54",
   "metadata": {},
   "source": [
    "We can inspect the instrument attribute to see what instrument `attrs` are currently supported through sunpy. Here we can see the instrument name (i.e., the name to be passed to the `a.Instrument` attribute, the client from which the data is available to access, and the full name of the instrument."
   ]
  },
  {
   "cell_type": "code",
   "execution_count": null,
   "id": "55",
   "metadata": {},
   "outputs": [],
   "source": [
    "a.Instrument"
   ]
  },
  {
   "cell_type": "markdown",
   "id": "56",
   "metadata": {},
   "source": [
    "We can combine our time and instrument attributes to search for AIA data within our selected time range using `Fido.search`"
   ]
  },
  {
   "cell_type": "code",
   "execution_count": null,
   "id": "57",
   "metadata": {
    "tags": []
   },
   "outputs": [],
   "source": [
    "Fido.search(cme_time & a.Instrument.aia)"
   ]
  },
  {
   "cell_type": "markdown",
   "id": "58",
   "metadata": {},
   "source": [
    "We can further filter our results using the `Wavelength` search attribute."
   ]
  },
  {
   "cell_type": "code",
   "execution_count": null,
   "id": "59",
   "metadata": {},
   "outputs": [],
   "source": [
    "Fido.search(cme_time & a.Instrument.aia & a.Wavelength(304*u.angstrom))"
   ]
  },
  {
   "cell_type": "code",
   "execution_count": null,
   "id": "60",
   "metadata": {},
   "outputs": [],
   "source": [
    "aia_query = cme_time & a.Wavelength(304*u.angstrom) & a.Instrument.aia & a.Sample(12*u.min)"
   ]
  },
  {
   "cell_type": "code",
   "execution_count": null,
   "id": "61",
   "metadata": {},
   "outputs": [],
   "source": [
    "Fido.search(aia_query)"
   ]
  },
  {
   "cell_type": "markdown",
   "id": "62",
   "metadata": {
    "tags": []
   },
   "source": [
    "<div class=\"alert alert-block alert-warning\">\n",
    "    <h3><u>EXERCISE:</u>\n",
    "    <br><br>\n",
    "    We've written a query for the AIA data above. How would we write a query for EUVI data from STEREO-A for the same time range, cadence, and wavelength?\n",
    "    </h3>\n",
    "</div>"
   ]
  },
  {
   "cell_type": "code",
   "execution_count": null,
   "id": "63",
   "metadata": {},
   "outputs": [],
   "source": [
    "# INSTRUCTOR BLOCK\n",
    "stereo_query = cme_time & a.Wavelength(304*u.angstrom) & a.Instrument.secchi & a.Sample(12*u.min)"
   ]
  },
  {
   "cell_type": "markdown",
   "id": "64",
   "metadata": {
    "tags": []
   },
   "source": [
    "### Combining Queries\n",
    "\n",
    "In addition to making queries for individual instruments, we can also logically combine queries for multiple instruments at once. For example, if we wanted to search for data from both AIA and SECCHI for the same time range and passband."
   ]
  },
  {
   "cell_type": "code",
   "execution_count": null,
   "id": "65",
   "metadata": {},
   "outputs": [],
   "source": [
    "Fido.search(cme_time, a.Instrument.aia | a.Instrument.secchi, a.Wavelength(304*u.angstrom), a.Sample(12*u.minute))"
   ]
  },
  {
   "cell_type": "markdown",
   "id": "66",
   "metadata": {},
   "source": [
    "What if we also wanted to look for the GOES XRS data during this same interval?\n",
    "\n",
    "GOES/XRS data does not have a \"Wavelength\" or \"Sample\" associated with it, but we can still combine the queries for all three of these instruments."
   ]
  },
  {
   "cell_type": "code",
   "execution_count": null,
   "id": "67",
   "metadata": {},
   "outputs": [],
   "source": [
    "aia_or_secchi = (a.Instrument.aia | a.Instrument.secchi) & a.Wavelength(304*u.angstrom) & a.Sample(12*u.minute)"
   ]
  },
  {
   "cell_type": "code",
   "execution_count": null,
   "id": "68",
   "metadata": {},
   "outputs": [],
   "source": [
    "goes_query = a.Instrument.xrs & a.goes.SatelliteNumber(17)"
   ]
  },
  {
   "cell_type": "code",
   "execution_count": null,
   "id": "69",
   "metadata": {},
   "outputs": [],
   "source": [
    "combined_query = Fido.search(cme_time, aia_or_secchi | goes_query)"
   ]
  },
  {
   "cell_type": "code",
   "execution_count": null,
   "id": "70",
   "metadata": {},
   "outputs": [],
   "source": [
    "combined_query"
   ]
  },
  {
   "cell_type": "markdown",
   "id": "71",
   "metadata": {},
   "source": [
    "### Using external `Fido` clients\n",
    "\n",
    "Within `sunpy` core, we support a number of clients to common data providers.\n",
    "However, the `Fido` search interface is extensible such that external packages can write that their own clients that extend `Fido` in order to additional data sources.\n",
    "One such example is the `sunpy_soar` package which adds a client for the Solar Orbter Archive (SOAR) which is located at ESAC.\n",
    "\n",
    "This will be covered on Wednesday!\n",
    "\n",
    "### Post-search filtering\n",
    "\n",
    "If you can not create the query to catch only the specific files you are after, your only choice is to filter the search results.\n",
    "To do this, we will first need to talk about these search results are underneath.\n",
    "\n",
    "Note that this is not supported by all of the available data sources.\n",
    "\n",
    "So let us break down what these responses are. To start, we have 3 of them"
   ]
  },
  {
   "cell_type": "code",
   "execution_count": null,
   "id": "72",
   "metadata": {},
   "outputs": [],
   "source": [
    "len(combined_query)"
   ]
  },
  {
   "cell_type": "markdown",
   "id": "73",
   "metadata": {},
   "source": [
    "We can select the first set of results, the AIA ones"
   ]
  },
  {
   "cell_type": "code",
   "execution_count": null,
   "id": "74",
   "metadata": {},
   "outputs": [],
   "source": [
    "combined_query[0]"
   ]
  },
  {
   "cell_type": "markdown",
   "id": "75",
   "metadata": {},
   "source": [
    "Notice the word, table at the top right of the output"
   ]
  },
  {
   "cell_type": "code",
   "execution_count": null,
   "id": "76",
   "metadata": {},
   "outputs": [],
   "source": [
    "combined_query[0].columns"
   ]
  },
  {
   "cell_type": "code",
   "execution_count": null,
   "id": "77",
   "metadata": {},
   "outputs": [],
   "source": [
    "combined_query[0][\"Start Time\"]"
   ]
  },
  {
   "cell_type": "markdown",
   "id": "78",
   "metadata": {},
   "source": [
    "So when we typically have tabular data, the default tends to be a pandas DataFrames.\n",
    "\n",
    "However, in this case, we have an astropy Table."
   ]
  },
  {
   "cell_type": "markdown",
   "id": "79",
   "metadata": {},
   "source": [
    "## Part 1b - `astropy.table.Tables`\n",
    "\n",
    "The astropy [Table](http://docs.astropy.org/en/stable/table/index.html) class provides an extension of NumPy structured arrays for storing and manipulating heterogeneous tables of data.\n",
    "A few notable features of this package are:\n",
    "\n",
    "- Initialize a table from a wide variety of input data structures and types.\n",
    "- Modify a table by adding or removing columns, changing column names, or adding new rows of data.\n",
    "- Handle tables containing missing values.\n",
    "- Include table and column metadata as flexible data structures.\n",
    "- Specify a description, units and output formatting for columns.\n",
    "- Perform operations like database joins, concatenation, and grouping.\n",
    "- Manipulate multidimensional columns.\n",
    "- Methods for Reading and writing Table objects to files\n",
    "- Integration with Astropy [Units and Quantities](http://astropy.readthedocs.org/en/stable/units/index.html)\n",
    "\n",
    "For more information about the features presented below, you can read the [astropy.table](http://docs.astropy.org/en/stable/table/index.html) documentation.\n",
    "\n",
    "There will be no discussion on Tables vs. DataFrames here."
   ]
  },
  {
   "cell_type": "code",
   "execution_count": null,
   "id": "80",
   "metadata": {},
   "outputs": [],
   "source": [
    "from astropy.table import Table"
   ]
  },
  {
   "cell_type": "markdown",
   "id": "81",
   "metadata": {},
   "source": [
    "Is the search results a table?"
   ]
  },
  {
   "cell_type": "code",
   "execution_count": null,
   "id": "82",
   "metadata": {},
   "outputs": [],
   "source": [
    "isinstance(combined_query, Table)"
   ]
  },
  {
   "cell_type": "markdown",
   "id": "83",
   "metadata": {},
   "source": [
    "No, ok, so what is?"
   ]
  },
  {
   "cell_type": "code",
   "execution_count": null,
   "id": "84",
   "metadata": {},
   "outputs": [],
   "source": [
    "isinstance(combined_query[0], Table)"
   ]
  },
  {
   "cell_type": "markdown",
   "id": "85",
   "metadata": {},
   "source": [
    "Let us see what the individual search results are."
   ]
  },
  {
   "cell_type": "code",
   "execution_count": null,
   "id": "86",
   "metadata": {},
   "outputs": [],
   "source": [
    "table = combined_query[0]\n",
    "table"
   ]
  },
  {
   "cell_type": "markdown",
   "id": "87",
   "metadata": {},
   "source": [
    "So the individual search results are all tables underneath.\n",
    "So we can do several operations on these Tables. "
   ]
  },
  {
   "cell_type": "code",
   "execution_count": null,
   "id": "88",
   "metadata": {},
   "outputs": [],
   "source": [
    "table.colnames"
   ]
  },
  {
   "cell_type": "code",
   "execution_count": null,
   "id": "89",
   "metadata": {},
   "outputs": [],
   "source": [
    "table['Physobs']"
   ]
  },
  {
   "cell_type": "markdown",
   "id": "90",
   "metadata": {},
   "source": [
    "Within a notebook context, there is an interactive mode"
   ]
  },
  {
   "cell_type": "code",
   "execution_count": null,
   "id": "91",
   "metadata": {},
   "outputs": [],
   "source": [
    "table.show_in_notebook()"
   ]
  },
  {
   "cell_type": "markdown",
   "id": "92",
   "metadata": {},
   "source": [
    "We can go further\n",
    "\n",
    "<div class=\"alert alert-block alert-warning\">\n",
    "    <h3><u>EXERCISE:</u> <br><br>Filter the time column to reduce the number of results</h3>\n",
    "</div>"
   ]
  },
  {
   "cell_type": "code",
   "execution_count": null,
   "id": "93",
   "metadata": {},
   "outputs": [],
   "source": [
    "# INSTRUCTOR BLOCK\n",
    "mask = table['Start Time'] < Time(\"2022-03-28 12:24:06.000\")\n",
    "table[mask]"
   ]
  },
  {
   "cell_type": "markdown",
   "id": "94",
   "metadata": {},
   "source": [
    "With this filtered table, you can pass it back into `sunpy.net.Fido` to download just this subset of results.\n",
    "\n",
    "This is data provider dependent, as each data provider can give you back a wide range of values that you might want to filter on, like exposure time or quality.\n",
    "\n",
    "In addition, some data providers provide statistics of each data file, so you could construct light curves from the data stored in these tables.\n",
    "\n",
    "## Downloading Data\n",
    "\n",
    "We can easily make a single download request from all of our different clients by passing in our combined query for AIA, EUVI and XRS."
   ]
  },
  {
   "cell_type": "code",
   "execution_count": null,
   "id": "95",
   "metadata": {},
   "outputs": [],
   "source": [
    "files = Fido.fetch(combined_query, path='data/{instrument}')"
   ]
  },
  {
   "cell_type": "markdown",
   "id": "96",
   "metadata": {},
   "source": [
    "Let us see what we got!"
   ]
  },
  {
   "cell_type": "code",
   "execution_count": null,
   "id": "97",
   "metadata": {},
   "outputs": [],
   "source": [
    "files"
   ]
  },
  {
   "cell_type": "markdown",
   "id": "98",
   "metadata": {},
   "source": [
    "Now we have all of these files, what do we do with them?"
   ]
  },
  {
   "cell_type": "markdown",
   "id": "99",
   "metadata": {},
   "source": [
    "# Part 2 - Data Structures: `Map` and `Timeseries`\n",
    "\n",
    "Let us start with the 2D data files.\n",
    "\n",
    "We will use glob to separate the files."
   ]
  },
  {
   "cell_type": "code",
   "execution_count": null,
   "id": "100",
   "metadata": {},
   "outputs": [],
   "source": [
    "import glob\n",
    "\n",
    "aia_files = sorted(glob.glob('data/AIA/*.fits'))\n",
    "stereo_files = sorted(glob.glob('data/SECCHI/*.fts'))"
   ]
  },
  {
   "cell_type": "code",
   "execution_count": null,
   "id": "101",
   "metadata": {},
   "outputs": [],
   "source": [
    "aia_files"
   ]
  },
  {
   "cell_type": "markdown",
   "id": "102",
   "metadata": {},
   "source": [
    "The most common data format used in Solar Physics for remote sensing instruments are FITS files, which consist of Header Data Unit (HDU) Pairs.\n",
    "\n",
    "We can open these easily with astropy."
   ]
  },
  {
   "cell_type": "code",
   "execution_count": null,
   "id": "103",
   "metadata": {},
   "outputs": [],
   "source": [
    "from astropy.io import fits\n",
    "\n",
    "hdulist = fits.open(aia_files[0])\n",
    "hdulist"
   ]
  },
  {
   "cell_type": "markdown",
   "id": "104",
   "metadata": {},
   "source": [
    "Here, it isn't important to worry about the first item in this list.\n",
    "We want to access the second element and check the data and FITS header of the file."
   ]
  },
  {
   "cell_type": "code",
   "execution_count": null,
   "id": "105",
   "metadata": {},
   "outputs": [],
   "source": [
    "hdulist[1].data"
   ]
  },
  {
   "cell_type": "code",
   "execution_count": null,
   "id": "106",
   "metadata": {},
   "outputs": [],
   "source": [
    "hdulist[1].header"
   ]
  },
  {
   "cell_type": "markdown",
   "id": "107",
   "metadata": {},
   "source": [
    "A FITS header can be long and difficult to parse, for example, the keys have to be 8 characters long maximum.\n",
    "This leads to one reading the FITS specification, if you are unfamiliar with the FITS standard (which most people are not familiar with).\n",
    "\n",
    "We could now plot the data using `matplotlib`."
   ]
  },
  {
   "cell_type": "code",
   "execution_count": null,
   "id": "108",
   "metadata": {},
   "outputs": [],
   "source": [
    "import matplotlib.pyplot as plt\n",
    "\n",
    "fig = plt.figure()\n",
    "ax = fig.add_subplot()\n",
    "ax.imshow(hdulist[1].data, vmin=0, vmax=100)\n",
    "# Quick note to remember that we do not need to use plt.show() to display the plot in a notebook."
   ]
  },
  {
   "cell_type": "markdown",
   "id": "109",
   "metadata": {},
   "source": [
    "So while we can access the data and header directly, working like that can pose some challenges.\n",
    "\n",
    "For example, what data pixel corresponds to the region on the Sun I am interested in?\n",
    "\n",
    "We need a way to tie the data and the metadata together to form one coherent unit which is where ..."
   ]
  },
  {
   "cell_type": "markdown",
   "id": "110",
   "metadata": {},
   "source": [
    "## The `Map` Data Structure"
   ]
  },
  {
   "cell_type": "markdown",
   "id": "111",
   "metadata": {},
   "source": [
    "We create a `sunpy.map.Map` object by passing in the FITS file for a single AIA and SECCHI (STEREO) observation."
   ]
  },
  {
   "cell_type": "code",
   "execution_count": null,
   "id": "112",
   "metadata": {},
   "outputs": [],
   "source": [
    "import sunpy.map\n",
    "\n",
    "m_aia = sunpy.map.Map(aia_files[6])\n",
    "m_stereo = sunpy.map.Map(stereo_files[6])"
   ]
  },
  {
   "cell_type": "markdown",
   "id": "113",
   "metadata": {},
   "source": [
    "We can easily visualize a map after loading it using the quicklook functionality that is enabled by the notebook."
   ]
  },
  {
   "cell_type": "code",
   "execution_count": null,
   "id": "114",
   "metadata": {},
   "outputs": [],
   "source": [
    "m_stereo"
   ]
  },
  {
   "cell_type": "markdown",
   "id": "115",
   "metadata": {},
   "source": [
    "While a normal plot will look like this"
   ]
  },
  {
   "cell_type": "code",
   "execution_count": null,
   "id": "116",
   "metadata": {},
   "outputs": [],
   "source": [
    "fig = plt.figure()\n",
    "ax = fig.add_subplot(projection=m_stereo)\n",
    "m_stereo.plot(axes=ax)"
   ]
  },
  {
   "cell_type": "markdown",
   "id": "117",
   "metadata": {},
   "source": [
    "We will talk much more about the `plot` command later on."
   ]
  },
  {
   "cell_type": "markdown",
   "id": "118",
   "metadata": {},
   "source": [
    "### Attributes of `Map`"
   ]
  },
  {
   "cell_type": "markdown",
   "id": "119",
   "metadata": {},
   "source": [
    "`Map` provides a common interface to most 2D imaging solar datasets and provides several useful pieces of metadata.\n",
    "`Map` is a container for holding your data and metadata (usually from the FITS header) together.\n",
    "\n",
    "The `.meta` and `.data` attributes provide access to the metadata and underlying array of image data, respectively."
   ]
  },
  {
   "cell_type": "code",
   "execution_count": null,
   "id": "120",
   "metadata": {},
   "outputs": [],
   "source": [
    "m_aia.data"
   ]
  },
  {
   "cell_type": "code",
   "execution_count": null,
   "id": "121",
   "metadata": {},
   "outputs": [],
   "source": [
    "m_aia.meta"
   ]
  },
  {
   "cell_type": "markdown",
   "id": "122",
   "metadata": {},
   "source": [
    "These are very similar to the output from the FITS directly.\n",
    "\n",
    "The main difference here, is that meta will track changes for you. \n",
    "So as you do operations (this being methods on a `Map` object), the metadata will be updated accordingly.\n",
    "\n",
    "This metadata can be terse, non-homogeneous, and sometimes difficult to parse.\n",
    "`Map` provides several attributes derived from the underlying raw metadata that expose a uniform interface to the metadata for each map."
   ]
  },
  {
   "cell_type": "code",
   "execution_count": null,
   "id": "123",
   "metadata": {},
   "outputs": [],
   "source": [
    "m_aia.wavelength"
   ]
  },
  {
   "cell_type": "code",
   "execution_count": null,
   "id": "124",
   "metadata": {},
   "outputs": [],
   "source": [
    "m_stereo.instrument"
   ]
  },
  {
   "cell_type": "markdown",
   "id": "125",
   "metadata": {},
   "source": [
    "Each `Map` object also holds the unit system that the image data is in, expressed in terms of an `astropy.unit.Unit` object."
   ]
  },
  {
   "cell_type": "code",
   "execution_count": null,
   "id": "126",
   "metadata": {},
   "outputs": [],
   "source": [
    "m_stereo.unit"
   ]
  },
  {
   "cell_type": "markdown",
   "id": "127",
   "metadata": {},
   "source": [
    "There are a whole range of attributes on Map to expose as much metadata as possible:"
   ]
  },
  {
   "cell_type": "code",
   "execution_count": null,
   "id": "128",
   "metadata": {},
   "outputs": [],
   "source": [
    "dir(m_stereo)"
   ]
  },
  {
   "cell_type": "markdown",
   "id": "129",
   "metadata": {},
   "source": [
    "# Part 2a - Coordinates and WCS"
   ]
  },
  {
   "cell_type": "markdown",
   "id": "130",
   "metadata": {},
   "source": [
    "### Coordinate Information\n",
    "\n",
    "Each `Map` exposes information about which coordinate system the image was taken in, including the location of the spacecraft that recorded that observation.\n",
    "\n",
    "`sunpy` leverages and extends the powerful `astropy` coordinate framework and within this framework, the `SkyCoord` object is the foundation. \n",
    "\n",
    "`SkyCoord` aims to provide a simple and flexible user interface for celestial coordinate representation, manipulation, and transformation between coordinate frames. "
   ]
  },
  {
   "cell_type": "code",
   "execution_count": null,
   "id": "131",
   "metadata": {},
   "outputs": [],
   "source": [
    "from astropy.coordinates import SkyCoord\n",
    "\n",
    "point = SkyCoord(0*u.deg, 0*u.deg, frame='icrs')\n",
    "point"
   ]
  },
  {
   "cell_type": "markdown",
   "id": "132",
   "metadata": {},
   "source": [
    "Here, the ICRS is just one coordinate frame among many.\n",
    "\n",
    "For those who are interested:\n",
    "\n",
    "> A resolution passed in 1997 established the International Celestial Reference System (ICRS), a high precision coordinate\n",
    "system with its origin at the solar system barycenter and \"a space fixed\" (kinematically nonrotating) axes. \n",
    "\n",
    "\n",
    "`sunpy` adds its several solar coordinate frames, which are automatically registered with `astropy` when you import `sunpy.map`.\n",
    "\n",
    "`SkyCoord` lets you abstract away the more complex parts about coordinates, for example, changing the coordinate system to a different one."
   ]
  },
  {
   "cell_type": "code",
   "execution_count": null,
   "id": "133",
   "metadata": {},
   "outputs": [],
   "source": [
    "point.galactic"
   ]
  },
  {
   "cell_type": "markdown",
   "id": "134",
   "metadata": {},
   "source": [
    "This is a specific example but as this is provided without context, let us show how this works within `sunpy`."
   ]
  },
  {
   "cell_type": "markdown",
   "id": "135",
   "metadata": {},
   "source": [
    "### A solar coordinate frame"
   ]
  },
  {
   "cell_type": "markdown",
   "id": "136",
   "metadata": {},
   "source": [
    "An example of a solar-specific coordinate system is the Stonyhurst heliographic (HGS) coordinate system. \n",
    "The HGS system is defined with the following Cartesian axes:\n",
    "\n",
    "* The origin is the center of the Sun\n",
    "* The Z-axis (+90 degrees latitude) is aligned with the Sun’s north pole.\n",
    "* The X-axis (0 degrees longitude and 0 degrees latitude) is perpendicular to the Z-axis such that the XZ-plane contains the Sun-Earth line.  That is, Earth is at 0 degrees longitude (but usually not at 0 degrees latitude).\n",
    "* The Y-axis (+90 degrees longitude and 0 degrees latitude) is perpendicular to both the X-axis and the Z-axis in a right-handed fashion.\n",
    "\n",
    "Then, the coordinate frame is the realization of this definition at a particular time, which defines the position/orientation of the Sun and the position of the Earth.\n",
    "\n",
    "Let's create a frame for Stonyhurst heliographic coordinates using sunpy's [`HeliographicStonyhurst` class](https://docs.sunpy.org/en/stable/api/sunpy.coordinates.frames.HeliographicStonyhurst.html):"
   ]
  },
  {
   "cell_type": "code",
   "execution_count": null,
   "id": "137",
   "metadata": {},
   "outputs": [],
   "source": [
    "from sunpy.coordinates import HeliographicStonyhurst\n",
    "\n",
    "time = '2022-03-28 11:00'\n",
    "hgs_frame = HeliographicStonyhurst(obstime=time)\n",
    "hgs_frame"
   ]
  },
  {
   "cell_type": "markdown",
   "id": "138",
   "metadata": {},
   "source": [
    "### Coordinates and different representations\n",
    "\n",
    "A **coordinate** combines position data with a `SkyCoord`.\n",
    "This position data can have different **representations**, e.g., spherical components or Cartesian components."
   ]
  },
  {
   "cell_type": "code",
   "execution_count": null,
   "id": "139",
   "metadata": {},
   "outputs": [],
   "source": [
    "# longitude, latitude, and distance from the origin\n",
    "hgs_coord = SkyCoord(10*u.deg, 20*u.deg, 1*u.AU, frame=hgs_frame)\n",
    "hgs_coord"
   ]
  },
  {
   "cell_type": "markdown",
   "id": "140",
   "metadata": {},
   "source": [
    "As before, each frame exposes specific attributes like lon and lat. "
   ]
  },
  {
   "cell_type": "code",
   "execution_count": null,
   "id": "141",
   "metadata": {},
   "outputs": [],
   "source": [
    "print(\n",
    "    f\"\"\"\n",
    "    Longitude: {hgs_coord.lon}\n",
    "    Latitude: {hgs_coord.lat}\n",
    "    Distance from Sun center: {hgs_coord.radius}\n",
    "    \"\"\"\n",
    ")"
   ]
  },
  {
   "cell_type": "markdown",
   "id": "142",
   "metadata": {},
   "source": [
    "### Observer-based frames\n",
    "\n",
    "A number of coordinate frames are **observer-based**, which means that the position of the observer is fundamental to the definition of the coordinate frame.\n",
    "\n",
    "For example, helioprojective Cartesian coordinates are aligned such that one axis is aligned with the Sun-observer line.\n",
    "\n",
    "Let's use the above `HeliographicStonyhurst` coordinate as the observer for a [`Helioprojective` frame](https://docs.sunpy.org/en/stable/api/sunpy.coordinates.frames.Helioprojective.html), here for 2D helioprojective coordinates: `(theta_x, theta_y) = (123 arcsec, 456 arcsec)`."
   ]
  },
  {
   "cell_type": "code",
   "execution_count": null,
   "id": "143",
   "metadata": {},
   "outputs": [],
   "source": [
    "from sunpy.coordinates import Helioprojective\n",
    "\n",
    "hpc_frame = Helioprojective(obstime=time, observer=hgs_coord)\n",
    "SkyCoord(123*u.arcsec, 456*u.arcsec, frame=hpc_frame)"
   ]
  },
  {
   "cell_type": "markdown",
   "id": "144",
   "metadata": {},
   "source": [
    "Recall that all of the sunpy.Maps we created so far are defined in a Helioprojective frame."
   ]
  },
  {
   "cell_type": "markdown",
   "id": "145",
   "metadata": {},
   "source": [
    "## What can do with this?\n",
    "\n",
    "Let's use our newfound knowledge of coordinates to plot the positions of the detected flares around the time we know that the CME initiated.\n",
    "\n",
    "To find the metadata for any flares that were detected at this time, we'll again use `Fido` to query the Heliophysics Event Knowledgebase (HEK).\n",
    "\n",
    "> The Heliophysics Events Knowledgebase (HEK) system is being developed to help solar and heliospheric researchers locate features and events of interest to their science topics.\n",
    "\n",
    "This can be done by using the HEK client specific attributes `a.hek.attrs`.\n",
    "\n",
    "We'll choose only flare events who have a GOES class above C2.5"
   ]
  },
  {
   "cell_type": "code",
   "execution_count": null,
   "id": "146",
   "metadata": {},
   "outputs": [],
   "source": [
    "hek_result = Fido.search(\n",
    "    a.Time(cme_start, cme_end),\n",
    "    a.hek.EventType('FL'),\n",
    "    a.hek.FL.GOESCls > 'C2.5'\n",
    ")"
   ]
  },
  {
   "cell_type": "markdown",
   "id": "147",
   "metadata": {},
   "source": [
    "The HEK keeps track of a lot of information for each event in the database."
   ]
  },
  {
   "cell_type": "code",
   "execution_count": null,
   "id": "148",
   "metadata": {},
   "outputs": [],
   "source": [
    "hek_result['hek']"
   ]
  },
  {
   "cell_type": "markdown",
   "id": "149",
   "metadata": {},
   "source": [
    "Let's filter this down to the start, end, and peak times of the flare, the GOES classification, and the coordinates of the flare on the disk."
   ]
  },
  {
   "cell_type": "code",
   "execution_count": null,
   "id": "150",
   "metadata": {},
   "outputs": [],
   "source": [
    "flare_table = hek_result['hek'][\n",
    "    'event_starttime',\n",
    "    'event_peaktime',\n",
    "    'event_endtime',\n",
    "    'fl_goescls',\n",
    "    'hpc_x',\n",
    "    'hpc_y',\n",
    "]"
   ]
  },
  {
   "cell_type": "code",
   "execution_count": null,
   "id": "151",
   "metadata": {},
   "outputs": [],
   "source": [
    "flare_table"
   ]
  },
  {
   "cell_type": "markdown",
   "id": "152",
   "metadata": {},
   "source": [
    "To further understand whether these flares in the HEK database correspond to the observed CME, we can plot the positions of the flares that occurred near the start of our observing interval on our AIA image.\n",
    "\n",
    "We'll do this by first constructing a coordinate for each flare using the HPC positions returned by the HEK.\n",
    "Though not explicitly stated here, these coordinates are computed assuming an Earth-based observer at the start time of the event.\n",
    "\n",
    "We can get a `SkyCoord` denoting the position of Earth using the `sunpy.coordinates.get_earth` function."
   ]
  },
  {
   "cell_type": "code",
   "execution_count": null,
   "id": "153",
   "metadata": {},
   "outputs": [],
   "source": [
    "# Leave this code here\n",
    "from sunpy.coordinates import get_earth\n",
    "\n",
    "flare_coords = []\n",
    "for fl in flare_table:\n",
    "    earth = get_earth(fl['event_starttime'])\n",
    "    hpc_frame = Helioprojective(obstime=fl['event_starttime'], observer=earth)\n",
    "    hpc_coord = SkyCoord(Tx=fl['hpc_x']*u.arcsec, Ty=fl['hpc_y']*u.arcsec, frame=hpc_frame)\n",
    "    flare_coords.append(hpc_coord)"
   ]
  },
  {
   "cell_type": "markdown",
   "id": "154",
   "metadata": {},
   "source": [
    "Finally, let's overplot these coordinates on our AIA and EUVI images.\n",
    "The `plot_coord` command takes in a `SkyCoord` object and automatically transforms the coordinate to the coordinate system defined by the WCS on that axis."
   ]
  },
  {
   "cell_type": "code",
   "execution_count": null,
   "id": "155",
   "metadata": {},
   "outputs": [],
   "source": [
    "# Leave this code here\n",
    "fig = plt.figure(figsize=(15,7.5))\n",
    "for i,m in enumerate([m_aia, m_stereo]):\n",
    "    ax = fig.add_subplot(1,2,i+1, projection=m)\n",
    "    m.plot(axes=ax,clip_interval=(25,99.5)*u.percent)\n",
    "    for fl in flare_coords:\n",
    "        ax.plot_coord(fl, marker='X', color='C0', markersize=15)"
   ]
  },
  {
   "cell_type": "markdown",
   "id": "156",
   "metadata": {},
   "source": [
    "We find that one of the flares queried from the HEK coincides with our observed CME while the other is offset to the south."
   ]
  },
  {
   "cell_type": "markdown",
   "id": "157",
   "metadata": {},
   "source": [
    "## Back to Map\n",
    "\n",
    "For each `Map`, we can easily access what *coordinate frame* the observation corresponds to."
   ]
  },
  {
   "cell_type": "code",
   "execution_count": null,
   "id": "158",
   "metadata": {},
   "outputs": [],
   "source": [
    "m_aia.coordinate_frame"
   ]
  },
  {
   "cell_type": "markdown",
   "id": "159",
   "metadata": {},
   "source": [
    "Similarly, we can look at the location of the observer (as defined by the position of the satellite at the time of the observation)."
   ]
  },
  {
   "cell_type": "code",
   "execution_count": null,
   "id": "160",
   "metadata": {},
   "outputs": [],
   "source": [
    "m_aia.observer_coordinate"
   ]
  },
  {
   "cell_type": "code",
   "execution_count": null,
   "id": "161",
   "metadata": {},
   "outputs": [],
   "source": [
    "m_stereo.observer_coordinate"
   ]
  },
  {
   "cell_type": "markdown",
   "id": "162",
   "metadata": {},
   "source": [
    "We can plot these observer coordinates to show the relative position, in heliographic longitude, of each spacecraft, similar to the SolarMACH plot we showed in our previous notebook.\n",
    "\n",
    "(**NOTE:** *It is not particularly important to understand the intricacies of the plotting code below. This is merely to show we can use the coordination information in each map to visualize the relative positions of the three spacecraft we are concerned with here.*)"
   ]
  },
  {
   "cell_type": "code",
   "execution_count": null,
   "id": "163",
   "metadata": {},
   "outputs": [],
   "source": [
    "# Leave this code here\n",
    "fig = plt.figure(figsize=(8, 8))\n",
    "ax = plt.subplot(projection='polar')\n",
    "\n",
    "# Plot the Sun\n",
    "ax.plot(0, 0, marker='o', markersize=20, label='Sun', color='yellow')\n",
    "\n",
    "# Plot the satellite locations\n",
    "for m in [m_aia, m_stereo]:\n",
    "    sat = m.observatory\n",
    "    coord = m.observer_coordinate\n",
    "    ax.plot(coord.lon.to('rad'), coord.radius.to(u.AU), 'o', label=sat)\n",
    "\n",
    "ax.set_theta_zero_location(\"S\")\n",
    "ax.set_rlabel_position(90)\n",
    "ax.set_rlim(0, 1.3)\n",
    "ax.legend()"
   ]
  },
  {
   "cell_type": "markdown",
   "id": "164",
   "metadata": {},
   "source": [
    "### `Map` and WCS"
   ]
  },
  {
   "cell_type": "markdown",
   "id": "165",
   "metadata": {},
   "source": [
    "The World Coordinate System (WCS) is part of the FITS standard and formalizes a framework for transforming between pixel and world coordinates."
   ]
  },
  {
   "cell_type": "code",
   "execution_count": null,
   "id": "166",
   "metadata": {},
   "outputs": [],
   "source": [
    "m_aia.wcs"
   ]
  },
  {
   "cell_type": "code",
   "execution_count": null,
   "id": "167",
   "metadata": {},
   "outputs": [],
   "source": [
    "type(m_aia.wcs)"
   ]
  },
  {
   "cell_type": "markdown",
   "id": "168",
   "metadata": {},
   "source": [
    "We can use the associated `pixel_to_world` and `world_to_pixel` functions to transform between the world and pixel coordinates of our images."
   ]
  },
  {
   "cell_type": "code",
   "execution_count": null,
   "id": "169",
   "metadata": {},
   "outputs": [],
   "source": [
    "m_aia.wcs.pixel_to_world(0*u.pix, 0*u.pix)"
   ]
  },
  {
   "cell_type": "code",
   "execution_count": null,
   "id": "170",
   "metadata": {},
   "outputs": [],
   "source": [
    "m_aia.bottom_left_coord"
   ]
  },
  {
   "cell_type": "markdown",
   "id": "171",
   "metadata": {},
   "source": [
    "The `bottom_left_coord` is the *center* of the pixel in the bottom left corner of our image."
   ]
  },
  {
   "cell_type": "code",
   "execution_count": null,
   "id": "172",
   "metadata": {},
   "outputs": [],
   "source": [
    "m_aia.wcs.world_to_pixel(m_aia.bottom_left_coord)"
   ]
  },
  {
   "cell_type": "markdown",
   "id": "173",
   "metadata": {},
   "source": [
    "Similarly, we can confirm that the `center` coordinate falls on the center of the map."
   ]
  },
  {
   "cell_type": "code",
   "execution_count": null,
   "id": "174",
   "metadata": {},
   "outputs": [],
   "source": [
    "m_aia.center"
   ]
  },
  {
   "cell_type": "code",
   "execution_count": null,
   "id": "175",
   "metadata": {},
   "outputs": [],
   "source": [
    "m_aia.wcs.world_to_pixel(m_aia.center)"
   ]
  },
  {
   "cell_type": "code",
   "execution_count": null,
   "id": "176",
   "metadata": {},
   "outputs": [],
   "source": [
    "m_aia.dimensions"
   ]
  },
  {
   "cell_type": "markdown",
   "id": "177",
   "metadata": {},
   "source": [
    "Note that the center of our AIA image does not align with the center of the Sun!"
   ]
  },
  {
   "cell_type": "code",
   "execution_count": null,
   "id": "178",
   "metadata": {},
   "outputs": [],
   "source": [
    "m_aia.wcs.world_to_pixel(SkyCoord(Tx=0*u.arcsec, Ty=0*u.arcsec, frame=m_aia.coordinate_frame))"
   ]
  },
  {
   "cell_type": "markdown",
   "id": "179",
   "metadata": {},
   "source": [
    "<div class=\"alert alert-block alert-warning\">\n",
    "    <h3><u>EXERCISE:</u>\n",
    "    <br><br>\n",
    "    How would you find the position of the center of the STEREO map in the pixel coordinates of the AIA map?\n",
    "    </h3>\n",
    "</div>"
   ]
  },
  {
   "cell_type": "code",
   "execution_count": null,
   "id": "180",
   "metadata": {},
   "outputs": [],
   "source": [
    "# INSTRUCTOR BLOCK\n",
    "m_aia.wcs.world_to_pixel(m_stereo.center)"
   ]
  },
  {
   "cell_type": "markdown",
   "id": "181",
   "metadata": {},
   "source": [
    "### Visualization"
   ]
  },
  {
   "cell_type": "markdown",
   "id": "182",
   "metadata": {},
   "source": [
    "`Map` provides some additional \"helpers\" for plotting the associated image data with the correct projection based on the WCS."
   ]
  },
  {
   "cell_type": "markdown",
   "id": "183",
   "metadata": {},
   "source": [
    "At a minimum, this can be accomplished through the `.plot()` method.\n",
    "It is important to note that this method supports many of the same arguments as `imshow` does."
   ]
  },
  {
   "cell_type": "code",
   "execution_count": null,
   "id": "184",
   "metadata": {},
   "outputs": [],
   "source": [
    "m_aia.plot()"
   ]
  },
  {
   "cell_type": "markdown",
   "id": "185",
   "metadata": {},
   "source": [
    "This \"automagically\" creates a figure and an axis (with a projection based on the WCS of the map) and plots our map on that axis, with a colormap and normalization tailored for the specific map source.\n",
    "\n",
    "All of this visualization is built on top of `matplotlib` and the `WCSAxes` capabilities provided by `astropy`.\n",
    "However, as you can see, the resulting default scaling is not particularly useful.\n",
    "\n",
    "Because all of this plotting capability is built on top of `matplotlib`, we can easily customize the various components of our plot."
   ]
  },
  {
   "cell_type": "code",
   "execution_count": null,
   "id": "186",
   "metadata": {},
   "outputs": [],
   "source": [
    "plt.figure(figsize=(8, 8))\n",
    "m_aia.plot(vmin=0, vmax=500)\n",
    "m_aia.draw_grid(lw=1, alpha=1)"
   ]
  },
  {
   "cell_type": "markdown",
   "id": "187",
   "metadata": {},
   "source": [
    "While it is nice to have `matplotlib` create everything for us, it is easier to customize the plotting process if we create the figure and axis ourselves.\n",
    "\n",
    "This can be important when we have multiple figures within a noteobok.\n",
    "\n",
    "So we will now  create a figure and axis and add the projection for the map.\n",
    "We can also easily adjust the limits on our colorbar using the `clip_interval` key."
   ]
  },
  {
   "cell_type": "code",
   "execution_count": null,
   "id": "188",
   "metadata": {},
   "outputs": [],
   "source": [
    "fig = plt.figure(figsize=(8,8))\n",
    "ax = fig.add_subplot(projection=m_aia)\n",
    "im = m_aia.plot(axes=ax, clip_interval=(5,99.9)*u.percent)\n",
    "grid = m_aia.draw_grid(axes=ax, lw=1, alpha=1)\n",
    "ax.set_title(r'A nicer AIA 304 $\\mathrm{\\AA}$ Plot')\n",
    "ax.coords[0].set_axislabel('HPC Lon')\n",
    "ax.coords[1].set_axislabel('HPC Lat')\n",
    "# This is just an example, it isn't the most useful\n",
    "grid['lon'].set_ticks([-30, -45, -60] * u.deg)\n",
    "grid['lat'].set_ticks([-45, -60, -75] * u.deg)\n",
    "fig.colorbar(im)"
   ]
  },
  {
   "cell_type": "markdown",
   "id": "189",
   "metadata": {},
   "source": [
    "Or specify a new normalization altogether"
   ]
  },
  {
   "cell_type": "code",
   "execution_count": null,
   "id": "190",
   "metadata": {},
   "outputs": [],
   "source": [
    "from astropy.visualization.mpl_normalize import ImageNormalize\n",
    "from astropy.visualization import LogStretch\n",
    "\n",
    "norm = ImageNormalize(vmin=0, vmax=50, stretch=LogStretch())"
   ]
  },
  {
   "cell_type": "code",
   "execution_count": null,
   "id": "191",
   "metadata": {},
   "outputs": [],
   "source": [
    "fig = plt.figure(figsize=(8,8))\n",
    "ax = fig.add_subplot(projection=m_aia)\n",
    "m_aia.plot(axes=ax,norm=norm)"
   ]
  },
  {
   "cell_type": "markdown",
   "id": "192",
   "metadata": {},
   "source": [
    "<div class=\"alert alert-block alert-warning\">\n",
    "    <h3><u>EXERCISE:</u> <br><br>How would I change the colormap for the above plot?</h3>\n",
    "</div>"
   ]
  },
  {
   "cell_type": "code",
   "execution_count": null,
   "id": "193",
   "metadata": {},
   "outputs": [],
   "source": [
    "# INSTRUCTOR BLOCK\n",
    "fig = plt.figure(figsize=(8,8))\n",
    "ax = fig.add_subplot(projection=m_aia)\n",
    "m_aia.plot(axes=ax,norm=norm, cmap='jet')"
   ]
  },
  {
   "cell_type": "markdown",
   "id": "194",
   "metadata": {},
   "source": [
    "Using `matplotlib` combined with `WCSAxes`, we can build more complex, publication-quality visualizations.\n",
    "\n",
    "(**NOTE:** It is not necessary to fully understand every intricacy of the plotting code below during the course of the tutorial. This is merely to show how `Map.plot` can be be used to make more complex plots.)"
   ]
  },
  {
   "cell_type": "code",
   "execution_count": null,
   "id": "195",
   "metadata": {},
   "outputs": [],
   "source": [
    "# Leave this code here\n",
    "from mpl_toolkits.axes_grid1.axes_divider import make_axes_locatable\n",
    "import numpy as np\n",
    "\n",
    "fig = plt.figure(figsize=(15,5))\n",
    "\n",
    "for i, m in enumerate([m_aia, m_stereo]):\n",
    "    # Create the axis with the appropriate projection\n",
    "    ax = fig.add_subplot(1,3,i+1,projection=m)\n",
    "\n",
    "    # Add the plot to the axis\n",
    "    im = m.plot(axes=ax, annotate=False, clip_interval=(25,99.5)*u.percent)\n",
    "\n",
    "    # Make the HPC grid lines visible\n",
    "    ax.coords.grid(alpha=1, ls='-')\n",
    "\n",
    "    # Adjust the labels and ticks\n",
    "    if i > 0:\n",
    "        ax.coords[1].set_auto_axislabel(False)\n",
    "    else:\n",
    "        ax.coords[1].set_axislabel('Solar-Y')\n",
    "    ax.coords[0].set_axislabel('Solar-X')\n",
    "    ax.coords[1].set_ticklabel(rotation=90,)\n",
    "\n",
    "    # Put a label on each plot\n",
    "    ax.text(m.data.shape[1]//2, m.data.shape[0]*.97, m.observatory,\n",
    "            color='w',\n",
    "            horizontalalignment='center',\n",
    "            verticalalignment='top',\n",
    "            fontsize=14)\n",
    "\n",
    "    # Add a colorbar to the top of each plot\n",
    "    divider = make_axes_locatable(ax)\n",
    "    cax = divider.append_axes('top', size='4%', pad=0.2, axes_class=plt.Axes)\n",
    "    fig.colorbar(im, cax=cax, orientation='horizontal')\n",
    "\n",
    "    cax.xaxis.set_ticks_position(\"top\")\n",
    "    cax.xaxis.set_tick_params(direction='in')\n",
    "\n",
    "plt.subplots_adjust(wspace=0.1)"
   ]
  },
  {
   "cell_type": "markdown",
   "id": "196",
   "metadata": {},
   "source": [
    "### Animations with `MapSequence`"
   ]
  },
  {
   "cell_type": "markdown",
   "id": "197",
   "metadata": {},
   "source": [
    "In addition, the `MapSequence` container provides a data container for holding multiple maps, such as in the case where you have a sequence of maps taken at successive times.\n",
    "We can create `MapSequence` objects by passing in our list of files and the `sequence=True` keyword argument."
   ]
  },
  {
   "cell_type": "code",
   "execution_count": null,
   "id": "198",
   "metadata": {},
   "outputs": [],
   "source": [
    "stereo_seq = sunpy.map.Map(stereo_files, sequence=True)"
   ]
  },
  {
   "cell_type": "code",
   "execution_count": null,
   "id": "199",
   "metadata": {},
   "outputs": [],
   "source": [
    "stereo_seq"
   ]
  },
  {
   "cell_type": "markdown",
   "id": "200",
   "metadata": {},
   "source": [
    "The `MapSequence` can be indexed to return the individual `Map` objects at each time step.\n",
    "\n",
    "One of the most useful features of a `MapSequence` is the ability to create coordinate-aware visualizations of our stack of `Map` objects.\n",
    "To do this, we'll first create a a colormap normalization appropriate to the range of the data for every map in our stack."
   ]
  },
  {
   "cell_type": "code",
   "execution_count": null,
   "id": "201",
   "metadata": {},
   "outputs": [],
   "source": [
    "from astropy.visualization import AsymmetricPercentileInterval\n",
    "\n",
    "vmin, vmax = AsymmetricPercentileInterval(1, 99.5).get_limits(stereo_seq.as_array())\n",
    "norm = ImageNormalize(vmin=vmin, vmax=vmax, stretch=LogStretch())"
   ]
  },
  {
   "cell_type": "markdown",
   "id": "202",
   "metadata": {},
   "source": [
    "The `plot` method on our `MapSequence` object now returns an animation rather than a simple static plot."
   ]
  },
  {
   "cell_type": "code",
   "execution_count": null,
   "id": "203",
   "metadata": {},
   "outputs": [],
   "source": [
    "plt.figure(figsize=(10,10))\n",
    "stereo_ani = stereo_seq.plot(norm=norm)"
   ]
  },
  {
   "cell_type": "code",
   "execution_count": null,
   "id": "204",
   "metadata": {},
   "outputs": [],
   "source": [
    "from IPython.display import HTML\n",
    "\n",
    "HTML(stereo_ani.to_jshtml())"
   ]
  },
  {
   "cell_type": "markdown",
   "id": "205",
   "metadata": {},
   "source": [
    "### Basic Image Manipulation\n",
    "\n",
    "There are several methods on the `Map` object that provide capabilities for doing basic image manipulation in combination with the coordinate information attached to each `Map`.\n",
    "\n",
    "#### Rotate\n",
    "\n",
    "The `.rotate` method applies a rotation in the image plane, i.e. about an axis out of the page. \n",
    "\n",
    "In the case where we do not specify an angle (or rotation matrix), the image will be rotated such that the world and pixel axes are aligned.\n",
    "\n",
    "In the case of an image in helioprojective coordinate system, this means that solar north will be aligned with the y-like pixel axis of the image."
   ]
  },
  {
   "cell_type": "code",
   "execution_count": null,
   "id": "206",
   "metadata": {},
   "outputs": [],
   "source": [
    "m_stereo_rot = m_stereo.rotate(missing=m_stereo.min())"
   ]
  },
  {
   "cell_type": "markdown",
   "id": "207",
   "metadata": {},
   "source": [
    "By default, any missing values will be filled with \"NaN\". Here, we specify `missing` as the minimum intensity value of the map such."
   ]
  },
  {
   "cell_type": "code",
   "execution_count": null,
   "id": "208",
   "metadata": {},
   "outputs": [],
   "source": [
    "fig = plt.figure(figsize=(11,5))\n",
    "\n",
    "ax = fig.add_subplot(121,projection=m_stereo)\n",
    "m_stereo.plot(axes=ax, vmin=800, vmax=5000)\n",
    "ax.coords.grid(alpha=1, ls='-')\n",
    "\n",
    "ax = fig.add_subplot(122,projection=m_stereo_rot)\n",
    "m_stereo_rot.plot(axes=ax, vmin=800, vmax=5000)\n",
    "ax.coords.grid(alpha=1, ls='-')"
   ]
  },
  {
   "cell_type": "markdown",
   "id": "209",
   "metadata": {},
   "source": [
    "This rotation is also reflected in the updated metadata of the rotated image."
   ]
  },
  {
   "cell_type": "code",
   "execution_count": null,
   "id": "210",
   "metadata": {},
   "outputs": [],
   "source": [
    "m_stereo.rotation_matrix"
   ]
  },
  {
   "cell_type": "code",
   "execution_count": null,
   "id": "211",
   "metadata": {},
   "outputs": [],
   "source": [
    "m_stereo_rot.rotation_matrix"
   ]
  },
  {
   "cell_type": "markdown",
   "id": "212",
   "metadata": {},
   "source": [
    "Additionally, one can also specify some arbitrary angle to rotate the image by.\n",
    "\n",
    "Note that this angle is relative to the current orientation of the image."
   ]
  },
  {
   "cell_type": "markdown",
   "id": "213",
   "metadata": {},
   "source": [
    "<div class=\"alert alert-block alert-warning\">\n",
    "    <h3><u>EXERCISE:</u>\n",
    "    <br><br>\n",
    "    How would you rotate the image such that there is exactly a 45 degree orientation between the world and pixel axes?\n",
    "    </h3>\n",
    "</div>"
   ]
  },
  {
   "cell_type": "code",
   "execution_count": null,
   "id": "214",
   "metadata": {},
   "outputs": [],
   "source": [
    "# INSTRUCTOR BLOCK\n",
    "m_stereo_45 = m_stereo.rotate(missing=m_stereo.min()).rotate(angle=45*u.degree, missing=m_stereo.min())\n",
    "\n",
    "fig = plt.figure(figsize=(5,5))\n",
    "\n",
    "ax = fig.add_subplot(projection=m_stereo_45)\n",
    "m_stereo_45.plot(axes=ax, vmin=800, vmax=5000)\n",
    "ax.coords.grid(alpha=1, ls='-')"
   ]
  },
  {
   "cell_type": "markdown",
   "id": "215",
   "metadata": {},
   "source": [
    "#### Cropping Images with `submap`"
   ]
  },
  {
   "cell_type": "markdown",
   "id": "216",
   "metadata": {},
   "source": [
    "We commonly want to pare down our full field-of-view to a particular region of interest.\n",
    "\n",
    "With a map, we can do this using the `submap` method.\n",
    "\n",
    "We can specify the region of our submap using world coordinates as specified by a `SkyCoord`.\n",
    "We will specify these coordinates in Heliographic Stonyhurst (HGS) coordinates.\n",
    "\n",
    "From the animation of the STEREO data above, we can identify approximately where the CME was launched from and crop our image around that region."
   ]
  },
  {
   "cell_type": "code",
   "execution_count": null,
   "id": "217",
   "metadata": {},
   "outputs": [],
   "source": [
    "bottom_left = SkyCoord(lon=-20*u.deg, lat=-5*u.deg, radius=1*sunpy.sun.constants.radius,\n",
    "                       frame='heliographic_stonyhurst', obstime=m_aia.date)\n",
    "top_right = SkyCoord(lon=30*u.deg, lat=35*u.deg, radius=1*sunpy.sun.constants.radius,\n",
    "                     frame='heliographic_stonyhurst', obstime=m_aia.date)"
   ]
  },
  {
   "cell_type": "code",
   "execution_count": null,
   "id": "218",
   "metadata": {},
   "outputs": [],
   "source": [
    "m_stereo_cropped = m_stereo.submap(bottom_left, top_right=top_right)"
   ]
  },
  {
   "cell_type": "code",
   "execution_count": null,
   "id": "219",
   "metadata": {},
   "outputs": [],
   "source": [
    "m_stereo_cropped"
   ]
  },
  {
   "cell_type": "markdown",
   "id": "220",
   "metadata": {},
   "source": [
    "The coordinates for our cutout can also be specified in pixel coordinates."
   ]
  },
  {
   "cell_type": "markdown",
   "id": "221",
   "metadata": {},
   "source": [
    "<div class=\"alert alert-block alert-warning\">\n",
    "    <h3><u>EXERCISE:</u> <br><br>The coordinates for our cutout can also be specified in pixel coordinates. Find the corners of our cutout in pixel coordinates and then create the same submap using those pixel coordinates.\n",
    "</h3>\n",
    "</div>"
   ]
  },
  {
   "cell_type": "code",
   "execution_count": null,
   "id": "222",
   "metadata": {},
   "outputs": [],
   "source": [
    "# INSTRUCTOR BLOCK\n",
    "bl_pix = m_stereo.wcs.world_to_pixel(m_stereo_cropped.bottom_left_coord)\n",
    "tr_pix = m_stereo.wcs.world_to_pixel(m_stereo_cropped.top_right_coord)\n",
    "m_stereo.submap(bl_pix*u.pixel, top_right=tr_pix*u.pixel)"
   ]
  },
  {
   "cell_type": "markdown",
   "id": "223",
   "metadata": {},
   "source": [
    "## The `Timeseries` Data Structure"
   ]
  },
  {
   "cell_type": "markdown",
   "id": "224",
   "metadata": {},
   "source": [
    "In addition to `Map` for 2D image data, `sunpy` also provides a container for tabular time series data through the `TimeSeries` class.\n",
    "We can create a `TimeSeries` object in a very similar manner to how we create a `Map` object.\n",
    "\n",
    "Let's look at the corresponding GOES XRS data that we downloaded in the previous notebook."
   ]
  },
  {
   "cell_type": "code",
   "execution_count": null,
   "id": "225",
   "metadata": {},
   "outputs": [],
   "source": [
    "goes_files = sorted(glob.glob('data/XRS/*.nc'))"
   ]
  },
  {
   "cell_type": "code",
   "execution_count": null,
   "id": "226",
   "metadata": {},
   "outputs": [],
   "source": [
    "import sunpy.timeseries\n",
    "\n",
    "ts = sunpy.timeseries.TimeSeries(goes_files[0])"
   ]
  },
  {
   "cell_type": "code",
   "execution_count": null,
   "id": "227",
   "metadata": {},
   "outputs": [],
   "source": [
    "ts"
   ]
  },
  {
   "cell_type": "markdown",
   "id": "228",
   "metadata": {},
   "source": [
    "As with `Map`, `TimeSeries` acts as a container for the data + metadata. We can access each component individually."
   ]
  },
  {
   "cell_type": "code",
   "execution_count": null,
   "id": "229",
   "metadata": {},
   "outputs": [],
   "source": [
    "ts.meta"
   ]
  },
  {
   "cell_type": "markdown",
   "id": "230",
   "metadata": {},
   "source": [
    "The `TimeSeries` object can also be converted to other formats like an `astropy` `Table` object"
   ]
  },
  {
   "cell_type": "code",
   "execution_count": null,
   "id": "231",
   "metadata": {},
   "outputs": [],
   "source": [
    "ts.to_table()"
   ]
  },
  {
   "cell_type": "markdown",
   "id": "232",
   "metadata": {},
   "source": [
    "or a `pandas` `DataFrame`"
   ]
  },
  {
   "cell_type": "code",
   "execution_count": null,
   "id": "233",
   "metadata": {},
   "outputs": [],
   "source": [
    "ts.to_dataframe()"
   ]
  },
  {
   "cell_type": "markdown",
   "id": "234",
   "metadata": {},
   "source": [
    "There are also a number of attributes on each `TimeSeries` derived from the data/metadata."
   ]
  },
  {
   "cell_type": "code",
   "execution_count": null,
   "id": "235",
   "metadata": {},
   "outputs": [],
   "source": [
    "ts.columns"
   ]
  },
  {
   "cell_type": "code",
   "execution_count": null,
   "id": "236",
   "metadata": {},
   "outputs": [],
   "source": [
    "ts.observatory"
   ]
  },
  {
   "cell_type": "code",
   "execution_count": null,
   "id": "237",
   "metadata": {},
   "outputs": [],
   "source": [
    "ts.units"
   ]
  },
  {
   "cell_type": "markdown",
   "id": "238",
   "metadata": {},
   "source": [
    "### Slicing and Visualizing `TimeSeries`"
   ]
  },
  {
   "cell_type": "markdown",
   "id": "239",
   "metadata": {},
   "source": [
    "Note that this intensity `TimeSeries` spans 24 h of observation time and recall that we are only interested in the ~3 h interval in which the CME is visible in the 304 channel.\n",
    "\n",
    "We can truncate our timeseries around the times of interest.\n",
    "To do this, we can actually use the `date` property on our first and last EUI map from our sequence."
   ]
  },
  {
   "cell_type": "code",
   "execution_count": null,
   "id": "240",
   "metadata": {},
   "outputs": [],
   "source": [
    "ts_cme = ts.truncate(stereo_seq[0].date.iso, stereo_seq[-1].date.iso)"
   ]
  },
  {
   "cell_type": "markdown",
   "id": "241",
   "metadata": {},
   "source": [
    "And then do a quicklook on our lightcurve."
   ]
  },
  {
   "cell_type": "code",
   "execution_count": null,
   "id": "242",
   "metadata": {},
   "outputs": [],
   "source": [
    "ts_cme"
   ]
  },
  {
   "cell_type": "markdown",
   "id": "243",
   "metadata": {},
   "source": [
    "As expected, we find that there is a flare occurring right around the time the CME occurs. This should not be surprising as we saw from the AIA data that the CME was Earth-directed such that GOES was well-position to observed the flare."
   ]
  },
  {
   "cell_type": "markdown",
   "id": "244",
   "metadata": {},
   "source": [
    "We can also zoom in a bit on the beginning of the flare."
   ]
  },
  {
   "cell_type": "code",
   "execution_count": null,
   "id": "245",
   "metadata": {},
   "outputs": [],
   "source": [
    "fig = plt.figure()\n",
    "ax = fig.add_subplot(111)\n",
    "ts_cme.plot(axes=ax)\n",
    "ax.set_xlim('2022-03-28 11:00', '2022-03-28 11:30')"
   ]
  },
  {
   "cell_type": "markdown",
   "id": "246",
   "metadata": {},
   "source": [
    "As expected, we find that the flare, as detected by GOES, begins just before the eruption is seen by STEREO at 11:20.\n",
    "\n",
    "### Combining GOES and HEK \n",
    "\n",
    "Additionally, let's load back in our GOES XRS timeseries over the entire time interval of interest as well as our AIA, EUVI, and EUI maps.\n",
    "\n",
    "First, let's plot the times of the flares on top of our untruncated timeseries.\n",
    "\n",
    "We'll indicate each flare with a shaded blue region and our original time interval of interest that we used to query our imaging observations with orange."
   ]
  },
  {
   "cell_type": "code",
   "execution_count": null,
   "id": "247",
   "metadata": {},
   "outputs": [],
   "source": [
    "fig = plt.figure(figsize=(8,5))\n",
    "ax = fig.add_subplot(111)\n",
    "ts.plot(axes=ax)\n",
    "ax.axvspan(cme_start, cme_end, alpha=0.25, color='C1')\n",
    "for fl in flare_table:\n",
    "    ax.axvspan(fl['event_starttime'].iso, fl['event_endtime'].iso,\n",
    "               color='C0', alpha=0.25)"
   ]
  },
  {
   "cell_type": "markdown",
   "id": "248",
   "metadata": {},
   "source": [
    "This now brings us to the end of sunpy and astropy tutorial."
   ]
  }
 ],
 "metadata": {
  "kernelspec": {
   "display_name": "Python 3 (ipykernel)",
   "language": "python",
   "name": "python3"
  },
  "language_info": {
   "codemirror_mode": {
    "name": "ipython",
    "version": 3
   },
   "file_extension": ".py",
   "mimetype": "text/x-python",
   "name": "python",
   "nbconvert_exporter": "python",
   "pygments_lexer": "ipython3",
   "version": "3.12.3"
  }
 },
 "nbformat": 4,
 "nbformat_minor": 5
}
